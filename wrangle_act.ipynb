{
  "cells": [
    {
      "cell_type": "markdown",
      "id": "4208fa03",
      "metadata": {
        "id": "4208fa03"
      },
      "source": [
        "# WeRateDogs Twitter Analysis"
      ]
    },
    {
      "cell_type": "markdown",
      "id": "0ac8f7e0",
      "metadata": {
        "id": "0ac8f7e0"
      },
      "source": [
        "## Importing Packages"
      ]
    },
    {
      "cell_type": "code",
      "execution_count": 2,
      "id": "8d1e8dff",
      "metadata": {
        "id": "8d1e8dff"
      },
      "outputs": [],
      "source": [
        "import pandas as pd\n",
        "import os\n",
        "import requests\n",
        "#import tweepy\n",
        "#from tweepy import OAuthHandler\n",
        "#from timeit import default_timer as timer\n",
        "import json\n",
        "import numpy as np\n",
        "import seaborn as sb\n",
        "import matplotlib.pyplot as plt\n",
        "%matplotlib inline"
      ]
    },
    {
      "cell_type": "markdown",
      "id": "096fc633",
      "metadata": {
        "id": "096fc633"
      },
      "source": [
        "## Data Gathering"
      ]
    },
    {
      "cell_type": "markdown",
      "id": "af84a604",
      "metadata": {
        "id": "af84a604"
      },
      "source": [
        "### Reading the enhanced twitter data "
      ]
    },
    {
      "cell_type": "code",
      "execution_count": 4,
      "id": "aad2a3a7",
      "metadata": {
        "colab": {
          "base_uri": "https://localhost:8080/",
          "height": 450
        },
        "id": "aad2a3a7",
        "outputId": "8f916f90-c094-4a51-c7b9-e5abf0bef4f1"
      },
      "outputs": [
        {
          "output_type": "execute_result",
          "data": {
            "text/plain": [
              "             tweet_id  in_reply_to_status_id  in_reply_to_user_id  \\\n",
              "0  892420643555336193                    NaN                  NaN   \n",
              "1  892177421306343426                    NaN                  NaN   \n",
              "2  891815181378084864                    NaN                  NaN   \n",
              "\n",
              "                   timestamp  \\\n",
              "0  2017-08-01 16:23:56 +0000   \n",
              "1  2017-08-01 00:17:27 +0000   \n",
              "2  2017-07-31 00:18:03 +0000   \n",
              "\n",
              "                                              source  \\\n",
              "0  <a href=\"http://twitter.com/download/iphone\" r...   \n",
              "1  <a href=\"http://twitter.com/download/iphone\" r...   \n",
              "2  <a href=\"http://twitter.com/download/iphone\" r...   \n",
              "\n",
              "                                                text  retweeted_status_id  \\\n",
              "0  This is Phineas. He's a mystical boy. Only eve...                  NaN   \n",
              "1  This is Tilly. She's just checking pup on you....                  NaN   \n",
              "2  This is Archie. He is a rare Norwegian Pouncin...                  NaN   \n",
              "\n",
              "   retweeted_status_user_id retweeted_status_timestamp  \\\n",
              "0                       NaN                        NaN   \n",
              "1                       NaN                        NaN   \n",
              "2                       NaN                        NaN   \n",
              "\n",
              "                                       expanded_urls  rating_numerator  \\\n",
              "0  https://twitter.com/dog_rates/status/892420643...                13   \n",
              "1  https://twitter.com/dog_rates/status/892177421...                13   \n",
              "2  https://twitter.com/dog_rates/status/891815181...                12   \n",
              "\n",
              "   rating_denominator     name doggo floofer pupper puppo  \n",
              "0                  10  Phineas  None    None   None  None  \n",
              "1                  10    Tilly  None    None   None  None  \n",
              "2                  10   Archie  None    None   None  None  "
            ],
            "text/html": [
              "\n",
              "  <div id=\"df-555fb0f7-7332-44bf-88ab-6cd700ed4099\">\n",
              "    <div class=\"colab-df-container\">\n",
              "      <div>\n",
              "<style scoped>\n",
              "    .dataframe tbody tr th:only-of-type {\n",
              "        vertical-align: middle;\n",
              "    }\n",
              "\n",
              "    .dataframe tbody tr th {\n",
              "        vertical-align: top;\n",
              "    }\n",
              "\n",
              "    .dataframe thead th {\n",
              "        text-align: right;\n",
              "    }\n",
              "</style>\n",
              "<table border=\"1\" class=\"dataframe\">\n",
              "  <thead>\n",
              "    <tr style=\"text-align: right;\">\n",
              "      <th></th>\n",
              "      <th>tweet_id</th>\n",
              "      <th>in_reply_to_status_id</th>\n",
              "      <th>in_reply_to_user_id</th>\n",
              "      <th>timestamp</th>\n",
              "      <th>source</th>\n",
              "      <th>text</th>\n",
              "      <th>retweeted_status_id</th>\n",
              "      <th>retweeted_status_user_id</th>\n",
              "      <th>retweeted_status_timestamp</th>\n",
              "      <th>expanded_urls</th>\n",
              "      <th>rating_numerator</th>\n",
              "      <th>rating_denominator</th>\n",
              "      <th>name</th>\n",
              "      <th>doggo</th>\n",
              "      <th>floofer</th>\n",
              "      <th>pupper</th>\n",
              "      <th>puppo</th>\n",
              "    </tr>\n",
              "  </thead>\n",
              "  <tbody>\n",
              "    <tr>\n",
              "      <th>0</th>\n",
              "      <td>892420643555336193</td>\n",
              "      <td>NaN</td>\n",
              "      <td>NaN</td>\n",
              "      <td>2017-08-01 16:23:56 +0000</td>\n",
              "      <td>&lt;a href=\"http://twitter.com/download/iphone\" r...</td>\n",
              "      <td>This is Phineas. He's a mystical boy. Only eve...</td>\n",
              "      <td>NaN</td>\n",
              "      <td>NaN</td>\n",
              "      <td>NaN</td>\n",
              "      <td>https://twitter.com/dog_rates/status/892420643...</td>\n",
              "      <td>13</td>\n",
              "      <td>10</td>\n",
              "      <td>Phineas</td>\n",
              "      <td>None</td>\n",
              "      <td>None</td>\n",
              "      <td>None</td>\n",
              "      <td>None</td>\n",
              "    </tr>\n",
              "    <tr>\n",
              "      <th>1</th>\n",
              "      <td>892177421306343426</td>\n",
              "      <td>NaN</td>\n",
              "      <td>NaN</td>\n",
              "      <td>2017-08-01 00:17:27 +0000</td>\n",
              "      <td>&lt;a href=\"http://twitter.com/download/iphone\" r...</td>\n",
              "      <td>This is Tilly. She's just checking pup on you....</td>\n",
              "      <td>NaN</td>\n",
              "      <td>NaN</td>\n",
              "      <td>NaN</td>\n",
              "      <td>https://twitter.com/dog_rates/status/892177421...</td>\n",
              "      <td>13</td>\n",
              "      <td>10</td>\n",
              "      <td>Tilly</td>\n",
              "      <td>None</td>\n",
              "      <td>None</td>\n",
              "      <td>None</td>\n",
              "      <td>None</td>\n",
              "    </tr>\n",
              "    <tr>\n",
              "      <th>2</th>\n",
              "      <td>891815181378084864</td>\n",
              "      <td>NaN</td>\n",
              "      <td>NaN</td>\n",
              "      <td>2017-07-31 00:18:03 +0000</td>\n",
              "      <td>&lt;a href=\"http://twitter.com/download/iphone\" r...</td>\n",
              "      <td>This is Archie. He is a rare Norwegian Pouncin...</td>\n",
              "      <td>NaN</td>\n",
              "      <td>NaN</td>\n",
              "      <td>NaN</td>\n",
              "      <td>https://twitter.com/dog_rates/status/891815181...</td>\n",
              "      <td>12</td>\n",
              "      <td>10</td>\n",
              "      <td>Archie</td>\n",
              "      <td>None</td>\n",
              "      <td>None</td>\n",
              "      <td>None</td>\n",
              "      <td>None</td>\n",
              "    </tr>\n",
              "  </tbody>\n",
              "</table>\n",
              "</div>\n",
              "      <button class=\"colab-df-convert\" onclick=\"convertToInteractive('df-555fb0f7-7332-44bf-88ab-6cd700ed4099')\"\n",
              "              title=\"Convert this dataframe to an interactive table.\"\n",
              "              style=\"display:none;\">\n",
              "        \n",
              "  <svg xmlns=\"http://www.w3.org/2000/svg\" height=\"24px\"viewBox=\"0 0 24 24\"\n",
              "       width=\"24px\">\n",
              "    <path d=\"M0 0h24v24H0V0z\" fill=\"none\"/>\n",
              "    <path d=\"M18.56 5.44l.94 2.06.94-2.06 2.06-.94-2.06-.94-.94-2.06-.94 2.06-2.06.94zm-11 1L8.5 8.5l.94-2.06 2.06-.94-2.06-.94L8.5 2.5l-.94 2.06-2.06.94zm10 10l.94 2.06.94-2.06 2.06-.94-2.06-.94-.94-2.06-.94 2.06-2.06.94z\"/><path d=\"M17.41 7.96l-1.37-1.37c-.4-.4-.92-.59-1.43-.59-.52 0-1.04.2-1.43.59L10.3 9.45l-7.72 7.72c-.78.78-.78 2.05 0 2.83L4 21.41c.39.39.9.59 1.41.59.51 0 1.02-.2 1.41-.59l7.78-7.78 2.81-2.81c.8-.78.8-2.07 0-2.86zM5.41 20L4 18.59l7.72-7.72 1.47 1.35L5.41 20z\"/>\n",
              "  </svg>\n",
              "      </button>\n",
              "      \n",
              "  <style>\n",
              "    .colab-df-container {\n",
              "      display:flex;\n",
              "      flex-wrap:wrap;\n",
              "      gap: 12px;\n",
              "    }\n",
              "\n",
              "    .colab-df-convert {\n",
              "      background-color: #E8F0FE;\n",
              "      border: none;\n",
              "      border-radius: 50%;\n",
              "      cursor: pointer;\n",
              "      display: none;\n",
              "      fill: #1967D2;\n",
              "      height: 32px;\n",
              "      padding: 0 0 0 0;\n",
              "      width: 32px;\n",
              "    }\n",
              "\n",
              "    .colab-df-convert:hover {\n",
              "      background-color: #E2EBFA;\n",
              "      box-shadow: 0px 1px 2px rgba(60, 64, 67, 0.3), 0px 1px 3px 1px rgba(60, 64, 67, 0.15);\n",
              "      fill: #174EA6;\n",
              "    }\n",
              "\n",
              "    [theme=dark] .colab-df-convert {\n",
              "      background-color: #3B4455;\n",
              "      fill: #D2E3FC;\n",
              "    }\n",
              "\n",
              "    [theme=dark] .colab-df-convert:hover {\n",
              "      background-color: #434B5C;\n",
              "      box-shadow: 0px 1px 3px 1px rgba(0, 0, 0, 0.15);\n",
              "      filter: drop-shadow(0px 1px 2px rgba(0, 0, 0, 0.3));\n",
              "      fill: #FFFFFF;\n",
              "    }\n",
              "  </style>\n",
              "\n",
              "      <script>\n",
              "        const buttonEl =\n",
              "          document.querySelector('#df-555fb0f7-7332-44bf-88ab-6cd700ed4099 button.colab-df-convert');\n",
              "        buttonEl.style.display =\n",
              "          google.colab.kernel.accessAllowed ? 'block' : 'none';\n",
              "\n",
              "        async function convertToInteractive(key) {\n",
              "          const element = document.querySelector('#df-555fb0f7-7332-44bf-88ab-6cd700ed4099');\n",
              "          const dataTable =\n",
              "            await google.colab.kernel.invokeFunction('convertToInteractive',\n",
              "                                                     [key], {});\n",
              "          if (!dataTable) return;\n",
              "\n",
              "          const docLinkHtml = 'Like what you see? Visit the ' +\n",
              "            '<a target=\"_blank\" href=https://colab.research.google.com/notebooks/data_table.ipynb>data table notebook</a>'\n",
              "            + ' to learn more about interactive tables.';\n",
              "          element.innerHTML = '';\n",
              "          dataTable['output_type'] = 'display_data';\n",
              "          await google.colab.output.renderOutput(dataTable, element);\n",
              "          const docLink = document.createElement('div');\n",
              "          docLink.innerHTML = docLinkHtml;\n",
              "          element.appendChild(docLink);\n",
              "        }\n",
              "      </script>\n",
              "    </div>\n",
              "  </div>\n",
              "  "
            ]
          },
          "metadata": {},
          "execution_count": 4
        }
      ],
      "source": [
        "#Reading the twitter archived data into a dataframe\n",
        "archive = pd.read_csv('twitter-archive-enhanced.csv')\n",
        "archive.head(3)"
      ]
    },
    {
      "cell_type": "markdown",
      "id": "0891e7aa",
      "metadata": {
        "id": "0891e7aa"
      },
      "source": [
        "### Using Requests library to download tweet image prediction data"
      ]
    },
    {
      "cell_type": "code",
      "execution_count": null,
      "id": "c7f78fa2",
      "metadata": {
        "id": "c7f78fa2"
      },
      "outputs": [],
      "source": [
        "#Getting the image prediction data using requests library\n",
        "url = 'https://d17h27t6h515a5.cloudfront.net/topher/2017/August/599fd2ad_image-predictions/image-predictions.tsv'\n",
        "r = requests.get(url)\n",
        "with open(url.split('/')[-1], mode = 'wb') as file:\n",
        "    file.write(r.content)"
      ]
    },
    {
      "cell_type": "code",
      "execution_count": 5,
      "id": "50110257",
      "metadata": {
        "colab": {
          "base_uri": "https://localhost:8080/",
          "height": 207
        },
        "id": "50110257",
        "outputId": "044e3645-48ae-49c4-cd25-c048278c399f"
      },
      "outputs": [
        {
          "output_type": "execute_result",
          "data": {
            "text/plain": [
              "             tweet_id                                          jpg_url  \\\n",
              "0  666020888022790149  https://pbs.twimg.com/media/CT4udn0WwAA0aMy.jpg   \n",
              "1  666029285002620928  https://pbs.twimg.com/media/CT42GRgUYAA5iDo.jpg   \n",
              "2  666033412701032449  https://pbs.twimg.com/media/CT4521TWwAEvMyu.jpg   \n",
              "\n",
              "   img_num                      p1   p1_conf  p1_dog                  p2  \\\n",
              "0        1  Welsh_springer_spaniel  0.465074    True              collie   \n",
              "1        1                 redbone  0.506826    True  miniature_pinscher   \n",
              "2        1         German_shepherd  0.596461    True            malinois   \n",
              "\n",
              "    p2_conf  p2_dog                   p3   p3_conf  p3_dog  \n",
              "0  0.156665    True    Shetland_sheepdog  0.061428    True  \n",
              "1  0.074192    True  Rhodesian_ridgeback  0.072010    True  \n",
              "2  0.138584    True           bloodhound  0.116197    True  "
            ],
            "text/html": [
              "\n",
              "  <div id=\"df-59769008-2c97-44ec-b832-9b3e18ce82e0\">\n",
              "    <div class=\"colab-df-container\">\n",
              "      <div>\n",
              "<style scoped>\n",
              "    .dataframe tbody tr th:only-of-type {\n",
              "        vertical-align: middle;\n",
              "    }\n",
              "\n",
              "    .dataframe tbody tr th {\n",
              "        vertical-align: top;\n",
              "    }\n",
              "\n",
              "    .dataframe thead th {\n",
              "        text-align: right;\n",
              "    }\n",
              "</style>\n",
              "<table border=\"1\" class=\"dataframe\">\n",
              "  <thead>\n",
              "    <tr style=\"text-align: right;\">\n",
              "      <th></th>\n",
              "      <th>tweet_id</th>\n",
              "      <th>jpg_url</th>\n",
              "      <th>img_num</th>\n",
              "      <th>p1</th>\n",
              "      <th>p1_conf</th>\n",
              "      <th>p1_dog</th>\n",
              "      <th>p2</th>\n",
              "      <th>p2_conf</th>\n",
              "      <th>p2_dog</th>\n",
              "      <th>p3</th>\n",
              "      <th>p3_conf</th>\n",
              "      <th>p3_dog</th>\n",
              "    </tr>\n",
              "  </thead>\n",
              "  <tbody>\n",
              "    <tr>\n",
              "      <th>0</th>\n",
              "      <td>666020888022790149</td>\n",
              "      <td>https://pbs.twimg.com/media/CT4udn0WwAA0aMy.jpg</td>\n",
              "      <td>1</td>\n",
              "      <td>Welsh_springer_spaniel</td>\n",
              "      <td>0.465074</td>\n",
              "      <td>True</td>\n",
              "      <td>collie</td>\n",
              "      <td>0.156665</td>\n",
              "      <td>True</td>\n",
              "      <td>Shetland_sheepdog</td>\n",
              "      <td>0.061428</td>\n",
              "      <td>True</td>\n",
              "    </tr>\n",
              "    <tr>\n",
              "      <th>1</th>\n",
              "      <td>666029285002620928</td>\n",
              "      <td>https://pbs.twimg.com/media/CT42GRgUYAA5iDo.jpg</td>\n",
              "      <td>1</td>\n",
              "      <td>redbone</td>\n",
              "      <td>0.506826</td>\n",
              "      <td>True</td>\n",
              "      <td>miniature_pinscher</td>\n",
              "      <td>0.074192</td>\n",
              "      <td>True</td>\n",
              "      <td>Rhodesian_ridgeback</td>\n",
              "      <td>0.072010</td>\n",
              "      <td>True</td>\n",
              "    </tr>\n",
              "    <tr>\n",
              "      <th>2</th>\n",
              "      <td>666033412701032449</td>\n",
              "      <td>https://pbs.twimg.com/media/CT4521TWwAEvMyu.jpg</td>\n",
              "      <td>1</td>\n",
              "      <td>German_shepherd</td>\n",
              "      <td>0.596461</td>\n",
              "      <td>True</td>\n",
              "      <td>malinois</td>\n",
              "      <td>0.138584</td>\n",
              "      <td>True</td>\n",
              "      <td>bloodhound</td>\n",
              "      <td>0.116197</td>\n",
              "      <td>True</td>\n",
              "    </tr>\n",
              "  </tbody>\n",
              "</table>\n",
              "</div>\n",
              "      <button class=\"colab-df-convert\" onclick=\"convertToInteractive('df-59769008-2c97-44ec-b832-9b3e18ce82e0')\"\n",
              "              title=\"Convert this dataframe to an interactive table.\"\n",
              "              style=\"display:none;\">\n",
              "        \n",
              "  <svg xmlns=\"http://www.w3.org/2000/svg\" height=\"24px\"viewBox=\"0 0 24 24\"\n",
              "       width=\"24px\">\n",
              "    <path d=\"M0 0h24v24H0V0z\" fill=\"none\"/>\n",
              "    <path d=\"M18.56 5.44l.94 2.06.94-2.06 2.06-.94-2.06-.94-.94-2.06-.94 2.06-2.06.94zm-11 1L8.5 8.5l.94-2.06 2.06-.94-2.06-.94L8.5 2.5l-.94 2.06-2.06.94zm10 10l.94 2.06.94-2.06 2.06-.94-2.06-.94-.94-2.06-.94 2.06-2.06.94z\"/><path d=\"M17.41 7.96l-1.37-1.37c-.4-.4-.92-.59-1.43-.59-.52 0-1.04.2-1.43.59L10.3 9.45l-7.72 7.72c-.78.78-.78 2.05 0 2.83L4 21.41c.39.39.9.59 1.41.59.51 0 1.02-.2 1.41-.59l7.78-7.78 2.81-2.81c.8-.78.8-2.07 0-2.86zM5.41 20L4 18.59l7.72-7.72 1.47 1.35L5.41 20z\"/>\n",
              "  </svg>\n",
              "      </button>\n",
              "      \n",
              "  <style>\n",
              "    .colab-df-container {\n",
              "      display:flex;\n",
              "      flex-wrap:wrap;\n",
              "      gap: 12px;\n",
              "    }\n",
              "\n",
              "    .colab-df-convert {\n",
              "      background-color: #E8F0FE;\n",
              "      border: none;\n",
              "      border-radius: 50%;\n",
              "      cursor: pointer;\n",
              "      display: none;\n",
              "      fill: #1967D2;\n",
              "      height: 32px;\n",
              "      padding: 0 0 0 0;\n",
              "      width: 32px;\n",
              "    }\n",
              "\n",
              "    .colab-df-convert:hover {\n",
              "      background-color: #E2EBFA;\n",
              "      box-shadow: 0px 1px 2px rgba(60, 64, 67, 0.3), 0px 1px 3px 1px rgba(60, 64, 67, 0.15);\n",
              "      fill: #174EA6;\n",
              "    }\n",
              "\n",
              "    [theme=dark] .colab-df-convert {\n",
              "      background-color: #3B4455;\n",
              "      fill: #D2E3FC;\n",
              "    }\n",
              "\n",
              "    [theme=dark] .colab-df-convert:hover {\n",
              "      background-color: #434B5C;\n",
              "      box-shadow: 0px 1px 3px 1px rgba(0, 0, 0, 0.15);\n",
              "      filter: drop-shadow(0px 1px 2px rgba(0, 0, 0, 0.3));\n",
              "      fill: #FFFFFF;\n",
              "    }\n",
              "  </style>\n",
              "\n",
              "      <script>\n",
              "        const buttonEl =\n",
              "          document.querySelector('#df-59769008-2c97-44ec-b832-9b3e18ce82e0 button.colab-df-convert');\n",
              "        buttonEl.style.display =\n",
              "          google.colab.kernel.accessAllowed ? 'block' : 'none';\n",
              "\n",
              "        async function convertToInteractive(key) {\n",
              "          const element = document.querySelector('#df-59769008-2c97-44ec-b832-9b3e18ce82e0');\n",
              "          const dataTable =\n",
              "            await google.colab.kernel.invokeFunction('convertToInteractive',\n",
              "                                                     [key], {});\n",
              "          if (!dataTable) return;\n",
              "\n",
              "          const docLinkHtml = 'Like what you see? Visit the ' +\n",
              "            '<a target=\"_blank\" href=https://colab.research.google.com/notebooks/data_table.ipynb>data table notebook</a>'\n",
              "            + ' to learn more about interactive tables.';\n",
              "          element.innerHTML = '';\n",
              "          dataTable['output_type'] = 'display_data';\n",
              "          await google.colab.output.renderOutput(dataTable, element);\n",
              "          const docLink = document.createElement('div');\n",
              "          docLink.innerHTML = docLinkHtml;\n",
              "          element.appendChild(docLink);\n",
              "        }\n",
              "      </script>\n",
              "    </div>\n",
              "  </div>\n",
              "  "
            ]
          },
          "metadata": {},
          "execution_count": 5
        }
      ],
      "source": [
        "#Reading the tsv file into dataframe\n",
        "image_prediction = pd.read_csv('image-predictions.tsv', sep = '\\t')\n",
        "image_prediction.head(3)"
      ]
    },
    {
      "cell_type": "markdown",
      "id": "02b29eaf",
      "metadata": {
        "id": "02b29eaf"
      },
      "source": [
        "### Using Twitter API (Tweepy) to get additional data"
      ]
    },
    {
      "cell_type": "code",
      "execution_count": null,
      "id": "0a581dca",
      "metadata": {
        "scrolled": false,
        "id": "0a581dca"
      },
      "outputs": [],
      "source": [
        "# Query Twitter API for each tweet in the Twitter archive and save JSON in a text file\n",
        "# These are hidden to comply with Twitter's API terms and conditions\n",
        "consumer_key = 'HIDDEN'\n",
        "consumer_secret = 'HIDDEN'\n",
        "access_token = 'HIDDEN'\n",
        "access_secret = 'HIDDEN'\n",
        "\n",
        "auth = OAuthHandler(consumer_key, consumer_secret)\n",
        "auth.set_access_token(access_token, access_secret)\n",
        "\n",
        "api = tweepy.API(auth, wait_on_rate_limit=True)\n",
        "\n",
        "# NOTE TO STUDENT WITH MOBILE VERIFICATION ISSUES:\n",
        "# df_1 is a DataFrame with the twitter_archive_enhanced.csv file. You may have to\n",
        "# change line 17 to match the name of your DataFrame with twitter_archive_enhanced.csv\n",
        "# NOTE TO REVIEWER: this student had mobile verification issues so the following\n",
        "# Twitter API code was sent to this student from a Udacity instructor\n",
        "# Tweet IDs for which to gather additional data via Twitter's API\n",
        "tweet_ids = df_1.tweet_id.values\n",
        "len(tweet_ids)\n",
        "\n",
        "# Query Twitter's API for JSON data for each tweet ID in the Twitter archive\n",
        "count = 0\n",
        "fails_dict = {}\n",
        "start = timer()\n",
        "# Save each tweet's returned JSON as a new line in a .txt file\n",
        "with open('tweet-json.txt', 'w') as outfile:\n",
        "    # This loop will likely take 20-30 minutes to run because of Twitter's rate limit\n",
        "    for tweet_id in tweet_ids:\n",
        "        count += 1\n",
        "        print(str(count) + \": \" + str(tweet_id))\n",
        "        try:\n",
        "            tweet = api.get_status(tweet_id, tweet_mode='extended')\n",
        "            print(\"Success\")\n",
        "            json.dump(tweet._json, outfile)\n",
        "            outfile.write('\\n')\n",
        "        except tweepy.TweepError as e:\n",
        "            print(\"Fail\")\n",
        "            fails_dict[tweet_id] = e\n",
        "            pass\n",
        "end = timer()\n",
        "print(end - start)\n",
        "print(fails_dict)"
      ]
    },
    {
      "cell_type": "code",
      "execution_count": 6,
      "id": "e88790c2",
      "metadata": {
        "id": "e88790c2"
      },
      "outputs": [],
      "source": [
        "#Creating a dataframe from the tweet json data\n",
        "tweet_list = []\n",
        "with open('tweet-json.txt', 'r') as file:\n",
        "    data = file.readlines()\n",
        "    for line in data:\n",
        "        tweet = json.loads(line)\n",
        "        tweet_id  = tweet['id']\n",
        "        retweet_count = tweet['retweet_count']\n",
        "        favorite_count = tweet['favorite_count']\n",
        "        tweet_list.append({'tweet_ID':tweet_id, 'retweet_count':retweet_count, 'favorite_count':favorite_count})\n",
        "tweet_data = pd.DataFrame(tweet_list, columns= ['tweet_ID', 'retweet_count', 'favorite_count'])"
      ]
    },
    {
      "cell_type": "code",
      "execution_count": 7,
      "id": "646553a0",
      "metadata": {
        "colab": {
          "base_uri": "https://localhost:8080/",
          "height": 112
        },
        "id": "646553a0",
        "outputId": "883fb7fa-b14d-43de-d47f-ebc0f57cda21"
      },
      "outputs": [
        {
          "output_type": "execute_result",
          "data": {
            "text/plain": [
              "             tweet_ID  retweet_count  favorite_count\n",
              "0  892420643555336193           8853           39467\n",
              "1  892177421306343426           6514           33819"
            ],
            "text/html": [
              "\n",
              "  <div id=\"df-53e1a8d7-8b0e-4893-9658-5d1ef43659a0\">\n",
              "    <div class=\"colab-df-container\">\n",
              "      <div>\n",
              "<style scoped>\n",
              "    .dataframe tbody tr th:only-of-type {\n",
              "        vertical-align: middle;\n",
              "    }\n",
              "\n",
              "    .dataframe tbody tr th {\n",
              "        vertical-align: top;\n",
              "    }\n",
              "\n",
              "    .dataframe thead th {\n",
              "        text-align: right;\n",
              "    }\n",
              "</style>\n",
              "<table border=\"1\" class=\"dataframe\">\n",
              "  <thead>\n",
              "    <tr style=\"text-align: right;\">\n",
              "      <th></th>\n",
              "      <th>tweet_ID</th>\n",
              "      <th>retweet_count</th>\n",
              "      <th>favorite_count</th>\n",
              "    </tr>\n",
              "  </thead>\n",
              "  <tbody>\n",
              "    <tr>\n",
              "      <th>0</th>\n",
              "      <td>892420643555336193</td>\n",
              "      <td>8853</td>\n",
              "      <td>39467</td>\n",
              "    </tr>\n",
              "    <tr>\n",
              "      <th>1</th>\n",
              "      <td>892177421306343426</td>\n",
              "      <td>6514</td>\n",
              "      <td>33819</td>\n",
              "    </tr>\n",
              "  </tbody>\n",
              "</table>\n",
              "</div>\n",
              "      <button class=\"colab-df-convert\" onclick=\"convertToInteractive('df-53e1a8d7-8b0e-4893-9658-5d1ef43659a0')\"\n",
              "              title=\"Convert this dataframe to an interactive table.\"\n",
              "              style=\"display:none;\">\n",
              "        \n",
              "  <svg xmlns=\"http://www.w3.org/2000/svg\" height=\"24px\"viewBox=\"0 0 24 24\"\n",
              "       width=\"24px\">\n",
              "    <path d=\"M0 0h24v24H0V0z\" fill=\"none\"/>\n",
              "    <path d=\"M18.56 5.44l.94 2.06.94-2.06 2.06-.94-2.06-.94-.94-2.06-.94 2.06-2.06.94zm-11 1L8.5 8.5l.94-2.06 2.06-.94-2.06-.94L8.5 2.5l-.94 2.06-2.06.94zm10 10l.94 2.06.94-2.06 2.06-.94-2.06-.94-.94-2.06-.94 2.06-2.06.94z\"/><path d=\"M17.41 7.96l-1.37-1.37c-.4-.4-.92-.59-1.43-.59-.52 0-1.04.2-1.43.59L10.3 9.45l-7.72 7.72c-.78.78-.78 2.05 0 2.83L4 21.41c.39.39.9.59 1.41.59.51 0 1.02-.2 1.41-.59l7.78-7.78 2.81-2.81c.8-.78.8-2.07 0-2.86zM5.41 20L4 18.59l7.72-7.72 1.47 1.35L5.41 20z\"/>\n",
              "  </svg>\n",
              "      </button>\n",
              "      \n",
              "  <style>\n",
              "    .colab-df-container {\n",
              "      display:flex;\n",
              "      flex-wrap:wrap;\n",
              "      gap: 12px;\n",
              "    }\n",
              "\n",
              "    .colab-df-convert {\n",
              "      background-color: #E8F0FE;\n",
              "      border: none;\n",
              "      border-radius: 50%;\n",
              "      cursor: pointer;\n",
              "      display: none;\n",
              "      fill: #1967D2;\n",
              "      height: 32px;\n",
              "      padding: 0 0 0 0;\n",
              "      width: 32px;\n",
              "    }\n",
              "\n",
              "    .colab-df-convert:hover {\n",
              "      background-color: #E2EBFA;\n",
              "      box-shadow: 0px 1px 2px rgba(60, 64, 67, 0.3), 0px 1px 3px 1px rgba(60, 64, 67, 0.15);\n",
              "      fill: #174EA6;\n",
              "    }\n",
              "\n",
              "    [theme=dark] .colab-df-convert {\n",
              "      background-color: #3B4455;\n",
              "      fill: #D2E3FC;\n",
              "    }\n",
              "\n",
              "    [theme=dark] .colab-df-convert:hover {\n",
              "      background-color: #434B5C;\n",
              "      box-shadow: 0px 1px 3px 1px rgba(0, 0, 0, 0.15);\n",
              "      filter: drop-shadow(0px 1px 2px rgba(0, 0, 0, 0.3));\n",
              "      fill: #FFFFFF;\n",
              "    }\n",
              "  </style>\n",
              "\n",
              "      <script>\n",
              "        const buttonEl =\n",
              "          document.querySelector('#df-53e1a8d7-8b0e-4893-9658-5d1ef43659a0 button.colab-df-convert');\n",
              "        buttonEl.style.display =\n",
              "          google.colab.kernel.accessAllowed ? 'block' : 'none';\n",
              "\n",
              "        async function convertToInteractive(key) {\n",
              "          const element = document.querySelector('#df-53e1a8d7-8b0e-4893-9658-5d1ef43659a0');\n",
              "          const dataTable =\n",
              "            await google.colab.kernel.invokeFunction('convertToInteractive',\n",
              "                                                     [key], {});\n",
              "          if (!dataTable) return;\n",
              "\n",
              "          const docLinkHtml = 'Like what you see? Visit the ' +\n",
              "            '<a target=\"_blank\" href=https://colab.research.google.com/notebooks/data_table.ipynb>data table notebook</a>'\n",
              "            + ' to learn more about interactive tables.';\n",
              "          element.innerHTML = '';\n",
              "          dataTable['output_type'] = 'display_data';\n",
              "          await google.colab.output.renderOutput(dataTable, element);\n",
              "          const docLink = document.createElement('div');\n",
              "          docLink.innerHTML = docLinkHtml;\n",
              "          element.appendChild(docLink);\n",
              "        }\n",
              "      </script>\n",
              "    </div>\n",
              "  </div>\n",
              "  "
            ]
          },
          "metadata": {},
          "execution_count": 7
        }
      ],
      "source": [
        "tweet_data.head(2)"
      ]
    },
    {
      "cell_type": "markdown",
      "id": "be1a6b58",
      "metadata": {
        "id": "be1a6b58"
      },
      "source": [
        "## Assessing Data"
      ]
    },
    {
      "cell_type": "code",
      "execution_count": null,
      "id": "c9cddb0a",
      "metadata": {
        "id": "c9cddb0a",
        "outputId": "d437619c-7451-413e-dce2-f6865a4f5774"
      },
      "outputs": [
        {
          "data": {
            "text/html": [
              "<div>\n",
              "<style scoped>\n",
              "    .dataframe tbody tr th:only-of-type {\n",
              "        vertical-align: middle;\n",
              "    }\n",
              "\n",
              "    .dataframe tbody tr th {\n",
              "        vertical-align: top;\n",
              "    }\n",
              "\n",
              "    .dataframe thead th {\n",
              "        text-align: right;\n",
              "    }\n",
              "</style>\n",
              "<table border=\"1\" class=\"dataframe\">\n",
              "  <thead>\n",
              "    <tr style=\"text-align: right;\">\n",
              "      <th></th>\n",
              "      <th>tweet_id</th>\n",
              "      <th>in_reply_to_status_id</th>\n",
              "      <th>in_reply_to_user_id</th>\n",
              "      <th>timestamp</th>\n",
              "      <th>source</th>\n",
              "      <th>text</th>\n",
              "      <th>retweeted_status_id</th>\n",
              "      <th>retweeted_status_user_id</th>\n",
              "      <th>retweeted_status_timestamp</th>\n",
              "      <th>expanded_urls</th>\n",
              "      <th>rating_numerator</th>\n",
              "      <th>rating_denominator</th>\n",
              "      <th>name</th>\n",
              "      <th>doggo</th>\n",
              "      <th>floofer</th>\n",
              "      <th>pupper</th>\n",
              "      <th>puppo</th>\n",
              "    </tr>\n",
              "  </thead>\n",
              "  <tbody>\n",
              "    <tr>\n",
              "      <th>0</th>\n",
              "      <td>892420643555336193</td>\n",
              "      <td>NaN</td>\n",
              "      <td>NaN</td>\n",
              "      <td>2017-08-01 16:23:56 +0000</td>\n",
              "      <td>&lt;a href=\"http://twitter.com/download/iphone\" r...</td>\n",
              "      <td>This is Phineas. He's a mystical boy. Only eve...</td>\n",
              "      <td>NaN</td>\n",
              "      <td>NaN</td>\n",
              "      <td>NaN</td>\n",
              "      <td>https://twitter.com/dog_rates/status/892420643...</td>\n",
              "      <td>13</td>\n",
              "      <td>10</td>\n",
              "      <td>Phineas</td>\n",
              "      <td>None</td>\n",
              "      <td>None</td>\n",
              "      <td>None</td>\n",
              "      <td>None</td>\n",
              "    </tr>\n",
              "    <tr>\n",
              "      <th>1</th>\n",
              "      <td>892177421306343426</td>\n",
              "      <td>NaN</td>\n",
              "      <td>NaN</td>\n",
              "      <td>2017-08-01 00:17:27 +0000</td>\n",
              "      <td>&lt;a href=\"http://twitter.com/download/iphone\" r...</td>\n",
              "      <td>This is Tilly. She's just checking pup on you....</td>\n",
              "      <td>NaN</td>\n",
              "      <td>NaN</td>\n",
              "      <td>NaN</td>\n",
              "      <td>https://twitter.com/dog_rates/status/892177421...</td>\n",
              "      <td>13</td>\n",
              "      <td>10</td>\n",
              "      <td>Tilly</td>\n",
              "      <td>None</td>\n",
              "      <td>None</td>\n",
              "      <td>None</td>\n",
              "      <td>None</td>\n",
              "    </tr>\n",
              "    <tr>\n",
              "      <th>2</th>\n",
              "      <td>891815181378084864</td>\n",
              "      <td>NaN</td>\n",
              "      <td>NaN</td>\n",
              "      <td>2017-07-31 00:18:03 +0000</td>\n",
              "      <td>&lt;a href=\"http://twitter.com/download/iphone\" r...</td>\n",
              "      <td>This is Archie. He is a rare Norwegian Pouncin...</td>\n",
              "      <td>NaN</td>\n",
              "      <td>NaN</td>\n",
              "      <td>NaN</td>\n",
              "      <td>https://twitter.com/dog_rates/status/891815181...</td>\n",
              "      <td>12</td>\n",
              "      <td>10</td>\n",
              "      <td>Archie</td>\n",
              "      <td>None</td>\n",
              "      <td>None</td>\n",
              "      <td>None</td>\n",
              "      <td>None</td>\n",
              "    </tr>\n",
              "    <tr>\n",
              "      <th>3</th>\n",
              "      <td>891689557279858688</td>\n",
              "      <td>NaN</td>\n",
              "      <td>NaN</td>\n",
              "      <td>2017-07-30 15:58:51 +0000</td>\n",
              "      <td>&lt;a href=\"http://twitter.com/download/iphone\" r...</td>\n",
              "      <td>This is Darla. She commenced a snooze mid meal...</td>\n",
              "      <td>NaN</td>\n",
              "      <td>NaN</td>\n",
              "      <td>NaN</td>\n",
              "      <td>https://twitter.com/dog_rates/status/891689557...</td>\n",
              "      <td>13</td>\n",
              "      <td>10</td>\n",
              "      <td>Darla</td>\n",
              "      <td>None</td>\n",
              "      <td>None</td>\n",
              "      <td>None</td>\n",
              "      <td>None</td>\n",
              "    </tr>\n",
              "    <tr>\n",
              "      <th>4</th>\n",
              "      <td>891327558926688256</td>\n",
              "      <td>NaN</td>\n",
              "      <td>NaN</td>\n",
              "      <td>2017-07-29 16:00:24 +0000</td>\n",
              "      <td>&lt;a href=\"http://twitter.com/download/iphone\" r...</td>\n",
              "      <td>This is Franklin. He would like you to stop ca...</td>\n",
              "      <td>NaN</td>\n",
              "      <td>NaN</td>\n",
              "      <td>NaN</td>\n",
              "      <td>https://twitter.com/dog_rates/status/891327558...</td>\n",
              "      <td>12</td>\n",
              "      <td>10</td>\n",
              "      <td>Franklin</td>\n",
              "      <td>None</td>\n",
              "      <td>None</td>\n",
              "      <td>None</td>\n",
              "      <td>None</td>\n",
              "    </tr>\n",
              "    <tr>\n",
              "      <th>...</th>\n",
              "      <td>...</td>\n",
              "      <td>...</td>\n",
              "      <td>...</td>\n",
              "      <td>...</td>\n",
              "      <td>...</td>\n",
              "      <td>...</td>\n",
              "      <td>...</td>\n",
              "      <td>...</td>\n",
              "      <td>...</td>\n",
              "      <td>...</td>\n",
              "      <td>...</td>\n",
              "      <td>...</td>\n",
              "      <td>...</td>\n",
              "      <td>...</td>\n",
              "      <td>...</td>\n",
              "      <td>...</td>\n",
              "      <td>...</td>\n",
              "    </tr>\n",
              "    <tr>\n",
              "      <th>2351</th>\n",
              "      <td>666049248165822465</td>\n",
              "      <td>NaN</td>\n",
              "      <td>NaN</td>\n",
              "      <td>2015-11-16 00:24:50 +0000</td>\n",
              "      <td>&lt;a href=\"http://twitter.com/download/iphone\" r...</td>\n",
              "      <td>Here we have a 1949 1st generation vulpix. Enj...</td>\n",
              "      <td>NaN</td>\n",
              "      <td>NaN</td>\n",
              "      <td>NaN</td>\n",
              "      <td>https://twitter.com/dog_rates/status/666049248...</td>\n",
              "      <td>5</td>\n",
              "      <td>10</td>\n",
              "      <td>None</td>\n",
              "      <td>None</td>\n",
              "      <td>None</td>\n",
              "      <td>None</td>\n",
              "      <td>None</td>\n",
              "    </tr>\n",
              "    <tr>\n",
              "      <th>2352</th>\n",
              "      <td>666044226329800704</td>\n",
              "      <td>NaN</td>\n",
              "      <td>NaN</td>\n",
              "      <td>2015-11-16 00:04:52 +0000</td>\n",
              "      <td>&lt;a href=\"http://twitter.com/download/iphone\" r...</td>\n",
              "      <td>This is a purebred Piers Morgan. Loves to Netf...</td>\n",
              "      <td>NaN</td>\n",
              "      <td>NaN</td>\n",
              "      <td>NaN</td>\n",
              "      <td>https://twitter.com/dog_rates/status/666044226...</td>\n",
              "      <td>6</td>\n",
              "      <td>10</td>\n",
              "      <td>a</td>\n",
              "      <td>None</td>\n",
              "      <td>None</td>\n",
              "      <td>None</td>\n",
              "      <td>None</td>\n",
              "    </tr>\n",
              "    <tr>\n",
              "      <th>2353</th>\n",
              "      <td>666033412701032449</td>\n",
              "      <td>NaN</td>\n",
              "      <td>NaN</td>\n",
              "      <td>2015-11-15 23:21:54 +0000</td>\n",
              "      <td>&lt;a href=\"http://twitter.com/download/iphone\" r...</td>\n",
              "      <td>Here is a very happy pup. Big fan of well-main...</td>\n",
              "      <td>NaN</td>\n",
              "      <td>NaN</td>\n",
              "      <td>NaN</td>\n",
              "      <td>https://twitter.com/dog_rates/status/666033412...</td>\n",
              "      <td>9</td>\n",
              "      <td>10</td>\n",
              "      <td>a</td>\n",
              "      <td>None</td>\n",
              "      <td>None</td>\n",
              "      <td>None</td>\n",
              "      <td>None</td>\n",
              "    </tr>\n",
              "    <tr>\n",
              "      <th>2354</th>\n",
              "      <td>666029285002620928</td>\n",
              "      <td>NaN</td>\n",
              "      <td>NaN</td>\n",
              "      <td>2015-11-15 23:05:30 +0000</td>\n",
              "      <td>&lt;a href=\"http://twitter.com/download/iphone\" r...</td>\n",
              "      <td>This is a western brown Mitsubishi terrier. Up...</td>\n",
              "      <td>NaN</td>\n",
              "      <td>NaN</td>\n",
              "      <td>NaN</td>\n",
              "      <td>https://twitter.com/dog_rates/status/666029285...</td>\n",
              "      <td>7</td>\n",
              "      <td>10</td>\n",
              "      <td>a</td>\n",
              "      <td>None</td>\n",
              "      <td>None</td>\n",
              "      <td>None</td>\n",
              "      <td>None</td>\n",
              "    </tr>\n",
              "    <tr>\n",
              "      <th>2355</th>\n",
              "      <td>666020888022790149</td>\n",
              "      <td>NaN</td>\n",
              "      <td>NaN</td>\n",
              "      <td>2015-11-15 22:32:08 +0000</td>\n",
              "      <td>&lt;a href=\"http://twitter.com/download/iphone\" r...</td>\n",
              "      <td>Here we have a Japanese Irish Setter. Lost eye...</td>\n",
              "      <td>NaN</td>\n",
              "      <td>NaN</td>\n",
              "      <td>NaN</td>\n",
              "      <td>https://twitter.com/dog_rates/status/666020888...</td>\n",
              "      <td>8</td>\n",
              "      <td>10</td>\n",
              "      <td>None</td>\n",
              "      <td>None</td>\n",
              "      <td>None</td>\n",
              "      <td>None</td>\n",
              "      <td>None</td>\n",
              "    </tr>\n",
              "  </tbody>\n",
              "</table>\n",
              "<p>2356 rows × 17 columns</p>\n",
              "</div>"
            ],
            "text/plain": [
              "                tweet_id  in_reply_to_status_id  in_reply_to_user_id  \\\n",
              "0     892420643555336193                    NaN                  NaN   \n",
              "1     892177421306343426                    NaN                  NaN   \n",
              "2     891815181378084864                    NaN                  NaN   \n",
              "3     891689557279858688                    NaN                  NaN   \n",
              "4     891327558926688256                    NaN                  NaN   \n",
              "...                  ...                    ...                  ...   \n",
              "2351  666049248165822465                    NaN                  NaN   \n",
              "2352  666044226329800704                    NaN                  NaN   \n",
              "2353  666033412701032449                    NaN                  NaN   \n",
              "2354  666029285002620928                    NaN                  NaN   \n",
              "2355  666020888022790149                    NaN                  NaN   \n",
              "\n",
              "                      timestamp  \\\n",
              "0     2017-08-01 16:23:56 +0000   \n",
              "1     2017-08-01 00:17:27 +0000   \n",
              "2     2017-07-31 00:18:03 +0000   \n",
              "3     2017-07-30 15:58:51 +0000   \n",
              "4     2017-07-29 16:00:24 +0000   \n",
              "...                         ...   \n",
              "2351  2015-11-16 00:24:50 +0000   \n",
              "2352  2015-11-16 00:04:52 +0000   \n",
              "2353  2015-11-15 23:21:54 +0000   \n",
              "2354  2015-11-15 23:05:30 +0000   \n",
              "2355  2015-11-15 22:32:08 +0000   \n",
              "\n",
              "                                                 source  \\\n",
              "0     <a href=\"http://twitter.com/download/iphone\" r...   \n",
              "1     <a href=\"http://twitter.com/download/iphone\" r...   \n",
              "2     <a href=\"http://twitter.com/download/iphone\" r...   \n",
              "3     <a href=\"http://twitter.com/download/iphone\" r...   \n",
              "4     <a href=\"http://twitter.com/download/iphone\" r...   \n",
              "...                                                 ...   \n",
              "2351  <a href=\"http://twitter.com/download/iphone\" r...   \n",
              "2352  <a href=\"http://twitter.com/download/iphone\" r...   \n",
              "2353  <a href=\"http://twitter.com/download/iphone\" r...   \n",
              "2354  <a href=\"http://twitter.com/download/iphone\" r...   \n",
              "2355  <a href=\"http://twitter.com/download/iphone\" r...   \n",
              "\n",
              "                                                   text  retweeted_status_id  \\\n",
              "0     This is Phineas. He's a mystical boy. Only eve...                  NaN   \n",
              "1     This is Tilly. She's just checking pup on you....                  NaN   \n",
              "2     This is Archie. He is a rare Norwegian Pouncin...                  NaN   \n",
              "3     This is Darla. She commenced a snooze mid meal...                  NaN   \n",
              "4     This is Franklin. He would like you to stop ca...                  NaN   \n",
              "...                                                 ...                  ...   \n",
              "2351  Here we have a 1949 1st generation vulpix. Enj...                  NaN   \n",
              "2352  This is a purebred Piers Morgan. Loves to Netf...                  NaN   \n",
              "2353  Here is a very happy pup. Big fan of well-main...                  NaN   \n",
              "2354  This is a western brown Mitsubishi terrier. Up...                  NaN   \n",
              "2355  Here we have a Japanese Irish Setter. Lost eye...                  NaN   \n",
              "\n",
              "      retweeted_status_user_id retweeted_status_timestamp  \\\n",
              "0                          NaN                        NaN   \n",
              "1                          NaN                        NaN   \n",
              "2                          NaN                        NaN   \n",
              "3                          NaN                        NaN   \n",
              "4                          NaN                        NaN   \n",
              "...                        ...                        ...   \n",
              "2351                       NaN                        NaN   \n",
              "2352                       NaN                        NaN   \n",
              "2353                       NaN                        NaN   \n",
              "2354                       NaN                        NaN   \n",
              "2355                       NaN                        NaN   \n",
              "\n",
              "                                          expanded_urls  rating_numerator  \\\n",
              "0     https://twitter.com/dog_rates/status/892420643...                13   \n",
              "1     https://twitter.com/dog_rates/status/892177421...                13   \n",
              "2     https://twitter.com/dog_rates/status/891815181...                12   \n",
              "3     https://twitter.com/dog_rates/status/891689557...                13   \n",
              "4     https://twitter.com/dog_rates/status/891327558...                12   \n",
              "...                                                 ...               ...   \n",
              "2351  https://twitter.com/dog_rates/status/666049248...                 5   \n",
              "2352  https://twitter.com/dog_rates/status/666044226...                 6   \n",
              "2353  https://twitter.com/dog_rates/status/666033412...                 9   \n",
              "2354  https://twitter.com/dog_rates/status/666029285...                 7   \n",
              "2355  https://twitter.com/dog_rates/status/666020888...                 8   \n",
              "\n",
              "      rating_denominator      name doggo floofer pupper puppo  \n",
              "0                     10   Phineas  None    None   None  None  \n",
              "1                     10     Tilly  None    None   None  None  \n",
              "2                     10    Archie  None    None   None  None  \n",
              "3                     10     Darla  None    None   None  None  \n",
              "4                     10  Franklin  None    None   None  None  \n",
              "...                  ...       ...   ...     ...    ...   ...  \n",
              "2351                  10      None  None    None   None  None  \n",
              "2352                  10         a  None    None   None  None  \n",
              "2353                  10         a  None    None   None  None  \n",
              "2354                  10         a  None    None   None  None  \n",
              "2355                  10      None  None    None   None  None  \n",
              "\n",
              "[2356 rows x 17 columns]"
            ]
          },
          "execution_count": 7,
          "metadata": {},
          "output_type": "execute_result"
        }
      ],
      "source": [
        "#Visually assessing the archive dataframe\n",
        "archive"
      ]
    },
    {
      "cell_type": "code",
      "execution_count": null,
      "id": "5c634a96",
      "metadata": {
        "id": "5c634a96",
        "outputId": "e62b0efb-82be-42ec-90f6-89c71c9a1feb"
      },
      "outputs": [
        {
          "data": {
            "text/html": [
              "<div>\n",
              "<style scoped>\n",
              "    .dataframe tbody tr th:only-of-type {\n",
              "        vertical-align: middle;\n",
              "    }\n",
              "\n",
              "    .dataframe tbody tr th {\n",
              "        vertical-align: top;\n",
              "    }\n",
              "\n",
              "    .dataframe thead th {\n",
              "        text-align: right;\n",
              "    }\n",
              "</style>\n",
              "<table border=\"1\" class=\"dataframe\">\n",
              "  <thead>\n",
              "    <tr style=\"text-align: right;\">\n",
              "      <th></th>\n",
              "      <th>tweet_id</th>\n",
              "      <th>jpg_url</th>\n",
              "      <th>img_num</th>\n",
              "      <th>p1</th>\n",
              "      <th>p1_conf</th>\n",
              "      <th>p1_dog</th>\n",
              "      <th>p2</th>\n",
              "      <th>p2_conf</th>\n",
              "      <th>p2_dog</th>\n",
              "      <th>p3</th>\n",
              "      <th>p3_conf</th>\n",
              "      <th>p3_dog</th>\n",
              "    </tr>\n",
              "  </thead>\n",
              "  <tbody>\n",
              "    <tr>\n",
              "      <th>0</th>\n",
              "      <td>666020888022790149</td>\n",
              "      <td>https://pbs.twimg.com/media/CT4udn0WwAA0aMy.jpg</td>\n",
              "      <td>1</td>\n",
              "      <td>Welsh_springer_spaniel</td>\n",
              "      <td>0.465074</td>\n",
              "      <td>True</td>\n",
              "      <td>collie</td>\n",
              "      <td>0.156665</td>\n",
              "      <td>True</td>\n",
              "      <td>Shetland_sheepdog</td>\n",
              "      <td>0.061428</td>\n",
              "      <td>True</td>\n",
              "    </tr>\n",
              "    <tr>\n",
              "      <th>1</th>\n",
              "      <td>666029285002620928</td>\n",
              "      <td>https://pbs.twimg.com/media/CT42GRgUYAA5iDo.jpg</td>\n",
              "      <td>1</td>\n",
              "      <td>redbone</td>\n",
              "      <td>0.506826</td>\n",
              "      <td>True</td>\n",
              "      <td>miniature_pinscher</td>\n",
              "      <td>0.074192</td>\n",
              "      <td>True</td>\n",
              "      <td>Rhodesian_ridgeback</td>\n",
              "      <td>0.072010</td>\n",
              "      <td>True</td>\n",
              "    </tr>\n",
              "    <tr>\n",
              "      <th>2</th>\n",
              "      <td>666033412701032449</td>\n",
              "      <td>https://pbs.twimg.com/media/CT4521TWwAEvMyu.jpg</td>\n",
              "      <td>1</td>\n",
              "      <td>German_shepherd</td>\n",
              "      <td>0.596461</td>\n",
              "      <td>True</td>\n",
              "      <td>malinois</td>\n",
              "      <td>0.138584</td>\n",
              "      <td>True</td>\n",
              "      <td>bloodhound</td>\n",
              "      <td>0.116197</td>\n",
              "      <td>True</td>\n",
              "    </tr>\n",
              "    <tr>\n",
              "      <th>3</th>\n",
              "      <td>666044226329800704</td>\n",
              "      <td>https://pbs.twimg.com/media/CT5Dr8HUEAA-lEu.jpg</td>\n",
              "      <td>1</td>\n",
              "      <td>Rhodesian_ridgeback</td>\n",
              "      <td>0.408143</td>\n",
              "      <td>True</td>\n",
              "      <td>redbone</td>\n",
              "      <td>0.360687</td>\n",
              "      <td>True</td>\n",
              "      <td>miniature_pinscher</td>\n",
              "      <td>0.222752</td>\n",
              "      <td>True</td>\n",
              "    </tr>\n",
              "    <tr>\n",
              "      <th>4</th>\n",
              "      <td>666049248165822465</td>\n",
              "      <td>https://pbs.twimg.com/media/CT5IQmsXIAAKY4A.jpg</td>\n",
              "      <td>1</td>\n",
              "      <td>miniature_pinscher</td>\n",
              "      <td>0.560311</td>\n",
              "      <td>True</td>\n",
              "      <td>Rottweiler</td>\n",
              "      <td>0.243682</td>\n",
              "      <td>True</td>\n",
              "      <td>Doberman</td>\n",
              "      <td>0.154629</td>\n",
              "      <td>True</td>\n",
              "    </tr>\n",
              "    <tr>\n",
              "      <th>...</th>\n",
              "      <td>...</td>\n",
              "      <td>...</td>\n",
              "      <td>...</td>\n",
              "      <td>...</td>\n",
              "      <td>...</td>\n",
              "      <td>...</td>\n",
              "      <td>...</td>\n",
              "      <td>...</td>\n",
              "      <td>...</td>\n",
              "      <td>...</td>\n",
              "      <td>...</td>\n",
              "      <td>...</td>\n",
              "    </tr>\n",
              "    <tr>\n",
              "      <th>2070</th>\n",
              "      <td>891327558926688256</td>\n",
              "      <td>https://pbs.twimg.com/media/DF6hr6BUMAAzZgT.jpg</td>\n",
              "      <td>2</td>\n",
              "      <td>basset</td>\n",
              "      <td>0.555712</td>\n",
              "      <td>True</td>\n",
              "      <td>English_springer</td>\n",
              "      <td>0.225770</td>\n",
              "      <td>True</td>\n",
              "      <td>German_short-haired_pointer</td>\n",
              "      <td>0.175219</td>\n",
              "      <td>True</td>\n",
              "    </tr>\n",
              "    <tr>\n",
              "      <th>2071</th>\n",
              "      <td>891689557279858688</td>\n",
              "      <td>https://pbs.twimg.com/media/DF_q7IAWsAEuuN8.jpg</td>\n",
              "      <td>1</td>\n",
              "      <td>paper_towel</td>\n",
              "      <td>0.170278</td>\n",
              "      <td>False</td>\n",
              "      <td>Labrador_retriever</td>\n",
              "      <td>0.168086</td>\n",
              "      <td>True</td>\n",
              "      <td>spatula</td>\n",
              "      <td>0.040836</td>\n",
              "      <td>False</td>\n",
              "    </tr>\n",
              "    <tr>\n",
              "      <th>2072</th>\n",
              "      <td>891815181378084864</td>\n",
              "      <td>https://pbs.twimg.com/media/DGBdLU1WsAANxJ9.jpg</td>\n",
              "      <td>1</td>\n",
              "      <td>Chihuahua</td>\n",
              "      <td>0.716012</td>\n",
              "      <td>True</td>\n",
              "      <td>malamute</td>\n",
              "      <td>0.078253</td>\n",
              "      <td>True</td>\n",
              "      <td>kelpie</td>\n",
              "      <td>0.031379</td>\n",
              "      <td>True</td>\n",
              "    </tr>\n",
              "    <tr>\n",
              "      <th>2073</th>\n",
              "      <td>892177421306343426</td>\n",
              "      <td>https://pbs.twimg.com/media/DGGmoV4XsAAUL6n.jpg</td>\n",
              "      <td>1</td>\n",
              "      <td>Chihuahua</td>\n",
              "      <td>0.323581</td>\n",
              "      <td>True</td>\n",
              "      <td>Pekinese</td>\n",
              "      <td>0.090647</td>\n",
              "      <td>True</td>\n",
              "      <td>papillon</td>\n",
              "      <td>0.068957</td>\n",
              "      <td>True</td>\n",
              "    </tr>\n",
              "    <tr>\n",
              "      <th>2074</th>\n",
              "      <td>892420643555336193</td>\n",
              "      <td>https://pbs.twimg.com/media/DGKD1-bXoAAIAUK.jpg</td>\n",
              "      <td>1</td>\n",
              "      <td>orange</td>\n",
              "      <td>0.097049</td>\n",
              "      <td>False</td>\n",
              "      <td>bagel</td>\n",
              "      <td>0.085851</td>\n",
              "      <td>False</td>\n",
              "      <td>banana</td>\n",
              "      <td>0.076110</td>\n",
              "      <td>False</td>\n",
              "    </tr>\n",
              "  </tbody>\n",
              "</table>\n",
              "<p>2075 rows × 12 columns</p>\n",
              "</div>"
            ],
            "text/plain": [
              "                tweet_id                                          jpg_url  \\\n",
              "0     666020888022790149  https://pbs.twimg.com/media/CT4udn0WwAA0aMy.jpg   \n",
              "1     666029285002620928  https://pbs.twimg.com/media/CT42GRgUYAA5iDo.jpg   \n",
              "2     666033412701032449  https://pbs.twimg.com/media/CT4521TWwAEvMyu.jpg   \n",
              "3     666044226329800704  https://pbs.twimg.com/media/CT5Dr8HUEAA-lEu.jpg   \n",
              "4     666049248165822465  https://pbs.twimg.com/media/CT5IQmsXIAAKY4A.jpg   \n",
              "...                  ...                                              ...   \n",
              "2070  891327558926688256  https://pbs.twimg.com/media/DF6hr6BUMAAzZgT.jpg   \n",
              "2071  891689557279858688  https://pbs.twimg.com/media/DF_q7IAWsAEuuN8.jpg   \n",
              "2072  891815181378084864  https://pbs.twimg.com/media/DGBdLU1WsAANxJ9.jpg   \n",
              "2073  892177421306343426  https://pbs.twimg.com/media/DGGmoV4XsAAUL6n.jpg   \n",
              "2074  892420643555336193  https://pbs.twimg.com/media/DGKD1-bXoAAIAUK.jpg   \n",
              "\n",
              "      img_num                      p1   p1_conf  p1_dog                  p2  \\\n",
              "0           1  Welsh_springer_spaniel  0.465074    True              collie   \n",
              "1           1                 redbone  0.506826    True  miniature_pinscher   \n",
              "2           1         German_shepherd  0.596461    True            malinois   \n",
              "3           1     Rhodesian_ridgeback  0.408143    True             redbone   \n",
              "4           1      miniature_pinscher  0.560311    True          Rottweiler   \n",
              "...       ...                     ...       ...     ...                 ...   \n",
              "2070        2                  basset  0.555712    True    English_springer   \n",
              "2071        1             paper_towel  0.170278   False  Labrador_retriever   \n",
              "2072        1               Chihuahua  0.716012    True            malamute   \n",
              "2073        1               Chihuahua  0.323581    True            Pekinese   \n",
              "2074        1                  orange  0.097049   False               bagel   \n",
              "\n",
              "       p2_conf  p2_dog                           p3   p3_conf  p3_dog  \n",
              "0     0.156665    True            Shetland_sheepdog  0.061428    True  \n",
              "1     0.074192    True          Rhodesian_ridgeback  0.072010    True  \n",
              "2     0.138584    True                   bloodhound  0.116197    True  \n",
              "3     0.360687    True           miniature_pinscher  0.222752    True  \n",
              "4     0.243682    True                     Doberman  0.154629    True  \n",
              "...        ...     ...                          ...       ...     ...  \n",
              "2070  0.225770    True  German_short-haired_pointer  0.175219    True  \n",
              "2071  0.168086    True                      spatula  0.040836   False  \n",
              "2072  0.078253    True                       kelpie  0.031379    True  \n",
              "2073  0.090647    True                     papillon  0.068957    True  \n",
              "2074  0.085851   False                       banana  0.076110   False  \n",
              "\n",
              "[2075 rows x 12 columns]"
            ]
          },
          "execution_count": 8,
          "metadata": {},
          "output_type": "execute_result"
        }
      ],
      "source": [
        "#Visually assessing the image_prediction data frame\n",
        "image_prediction"
      ]
    },
    {
      "cell_type": "code",
      "execution_count": null,
      "id": "e11d3a31",
      "metadata": {
        "id": "e11d3a31",
        "outputId": "7ee6555f-3c8c-46d1-c5ce-596e1435720a"
      },
      "outputs": [
        {
          "data": {
            "text/html": [
              "<div>\n",
              "<style scoped>\n",
              "    .dataframe tbody tr th:only-of-type {\n",
              "        vertical-align: middle;\n",
              "    }\n",
              "\n",
              "    .dataframe tbody tr th {\n",
              "        vertical-align: top;\n",
              "    }\n",
              "\n",
              "    .dataframe thead th {\n",
              "        text-align: right;\n",
              "    }\n",
              "</style>\n",
              "<table border=\"1\" class=\"dataframe\">\n",
              "  <thead>\n",
              "    <tr style=\"text-align: right;\">\n",
              "      <th></th>\n",
              "      <th>tweet_ID</th>\n",
              "      <th>retweet_count</th>\n",
              "      <th>favorite_count</th>\n",
              "    </tr>\n",
              "  </thead>\n",
              "  <tbody>\n",
              "    <tr>\n",
              "      <th>0</th>\n",
              "      <td>892420643555336193</td>\n",
              "      <td>8853</td>\n",
              "      <td>39467</td>\n",
              "    </tr>\n",
              "    <tr>\n",
              "      <th>1</th>\n",
              "      <td>892177421306343426</td>\n",
              "      <td>6514</td>\n",
              "      <td>33819</td>\n",
              "    </tr>\n",
              "    <tr>\n",
              "      <th>2</th>\n",
              "      <td>891815181378084864</td>\n",
              "      <td>4328</td>\n",
              "      <td>25461</td>\n",
              "    </tr>\n",
              "    <tr>\n",
              "      <th>3</th>\n",
              "      <td>891689557279858688</td>\n",
              "      <td>8964</td>\n",
              "      <td>42908</td>\n",
              "    </tr>\n",
              "    <tr>\n",
              "      <th>4</th>\n",
              "      <td>891327558926688256</td>\n",
              "      <td>9774</td>\n",
              "      <td>41048</td>\n",
              "    </tr>\n",
              "    <tr>\n",
              "      <th>...</th>\n",
              "      <td>...</td>\n",
              "      <td>...</td>\n",
              "      <td>...</td>\n",
              "    </tr>\n",
              "    <tr>\n",
              "      <th>2349</th>\n",
              "      <td>666049248165822465</td>\n",
              "      <td>41</td>\n",
              "      <td>111</td>\n",
              "    </tr>\n",
              "    <tr>\n",
              "      <th>2350</th>\n",
              "      <td>666044226329800704</td>\n",
              "      <td>147</td>\n",
              "      <td>311</td>\n",
              "    </tr>\n",
              "    <tr>\n",
              "      <th>2351</th>\n",
              "      <td>666033412701032449</td>\n",
              "      <td>47</td>\n",
              "      <td>128</td>\n",
              "    </tr>\n",
              "    <tr>\n",
              "      <th>2352</th>\n",
              "      <td>666029285002620928</td>\n",
              "      <td>48</td>\n",
              "      <td>132</td>\n",
              "    </tr>\n",
              "    <tr>\n",
              "      <th>2353</th>\n",
              "      <td>666020888022790149</td>\n",
              "      <td>532</td>\n",
              "      <td>2535</td>\n",
              "    </tr>\n",
              "  </tbody>\n",
              "</table>\n",
              "<p>2354 rows × 3 columns</p>\n",
              "</div>"
            ],
            "text/plain": [
              "                tweet_ID  retweet_count  favorite_count\n",
              "0     892420643555336193           8853           39467\n",
              "1     892177421306343426           6514           33819\n",
              "2     891815181378084864           4328           25461\n",
              "3     891689557279858688           8964           42908\n",
              "4     891327558926688256           9774           41048\n",
              "...                  ...            ...             ...\n",
              "2349  666049248165822465             41             111\n",
              "2350  666044226329800704            147             311\n",
              "2351  666033412701032449             47             128\n",
              "2352  666029285002620928             48             132\n",
              "2353  666020888022790149            532            2535\n",
              "\n",
              "[2354 rows x 3 columns]"
            ]
          },
          "execution_count": 9,
          "metadata": {},
          "output_type": "execute_result"
        }
      ],
      "source": [
        "#Visually assessing the additionla tweet data frame\n",
        "tweet_data"
      ]
    },
    {
      "cell_type": "code",
      "execution_count": null,
      "id": "2a7d890c",
      "metadata": {
        "scrolled": true,
        "id": "2a7d890c",
        "outputId": "8ce7ba59-18db-456a-9b90-29baffc9b831"
      },
      "outputs": [
        {
          "name": "stdout",
          "output_type": "stream",
          "text": [
            "<class 'pandas.core.frame.DataFrame'>\n",
            "RangeIndex: 2356 entries, 0 to 2355\n",
            "Data columns (total 17 columns):\n",
            " #   Column                      Non-Null Count  Dtype  \n",
            "---  ------                      --------------  -----  \n",
            " 0   tweet_id                    2356 non-null   int64  \n",
            " 1   in_reply_to_status_id       78 non-null     float64\n",
            " 2   in_reply_to_user_id         78 non-null     float64\n",
            " 3   timestamp                   2356 non-null   object \n",
            " 4   source                      2356 non-null   object \n",
            " 5   text                        2356 non-null   object \n",
            " 6   retweeted_status_id         181 non-null    float64\n",
            " 7   retweeted_status_user_id    181 non-null    float64\n",
            " 8   retweeted_status_timestamp  181 non-null    object \n",
            " 9   expanded_urls               2297 non-null   object \n",
            " 10  rating_numerator            2356 non-null   int64  \n",
            " 11  rating_denominator          2356 non-null   int64  \n",
            " 12  name                        2356 non-null   object \n",
            " 13  doggo                       2356 non-null   object \n",
            " 14  floofer                     2356 non-null   object \n",
            " 15  pupper                      2356 non-null   object \n",
            " 16  puppo                       2356 non-null   object \n",
            "dtypes: float64(4), int64(3), object(10)\n",
            "memory usage: 313.0+ KB\n"
          ]
        }
      ],
      "source": [
        "#Checking the data shape, data types, and non null values\n",
        "archive.info()"
      ]
    },
    {
      "cell_type": "code",
      "execution_count": null,
      "id": "aa5581df",
      "metadata": {
        "id": "aa5581df",
        "outputId": "3834ef9d-52a8-4596-9159-e27712f4d815"
      },
      "outputs": [
        {
          "name": "stdout",
          "output_type": "stream",
          "text": [
            "<class 'pandas.core.frame.DataFrame'>\n",
            "RangeIndex: 2075 entries, 0 to 2074\n",
            "Data columns (total 12 columns):\n",
            " #   Column    Non-Null Count  Dtype  \n",
            "---  ------    --------------  -----  \n",
            " 0   tweet_id  2075 non-null   int64  \n",
            " 1   jpg_url   2075 non-null   object \n",
            " 2   img_num   2075 non-null   int64  \n",
            " 3   p1        2075 non-null   object \n",
            " 4   p1_conf   2075 non-null   float64\n",
            " 5   p1_dog    2075 non-null   bool   \n",
            " 6   p2        2075 non-null   object \n",
            " 7   p2_conf   2075 non-null   float64\n",
            " 8   p2_dog    2075 non-null   bool   \n",
            " 9   p3        2075 non-null   object \n",
            " 10  p3_conf   2075 non-null   float64\n",
            " 11  p3_dog    2075 non-null   bool   \n",
            "dtypes: bool(3), float64(3), int64(2), object(4)\n",
            "memory usage: 152.1+ KB\n"
          ]
        }
      ],
      "source": [
        "#Checking the data shape, data types, and non null values\n",
        "image_prediction.info()"
      ]
    },
    {
      "cell_type": "code",
      "execution_count": null,
      "id": "7c58f6d5",
      "metadata": {
        "id": "7c58f6d5",
        "outputId": "4b649ca0-3ca6-44da-e083-233d9c2c892a"
      },
      "outputs": [
        {
          "name": "stdout",
          "output_type": "stream",
          "text": [
            "<class 'pandas.core.frame.DataFrame'>\n",
            "RangeIndex: 2354 entries, 0 to 2353\n",
            "Data columns (total 3 columns):\n",
            " #   Column          Non-Null Count  Dtype\n",
            "---  ------          --------------  -----\n",
            " 0   tweet_ID        2354 non-null   int64\n",
            " 1   retweet_count   2354 non-null   int64\n",
            " 2   favorite_count  2354 non-null   int64\n",
            "dtypes: int64(3)\n",
            "memory usage: 55.3 KB\n"
          ]
        }
      ],
      "source": [
        "#Checking the data shape, data types, and non null values\n",
        "tweet_data.info()"
      ]
    },
    {
      "cell_type": "code",
      "execution_count": null,
      "id": "f26b4dd7",
      "metadata": {
        "id": "f26b4dd7",
        "outputId": "3cc08287-341b-4fd6-8b7b-62c337cd0109"
      },
      "outputs": [
        {
          "data": {
            "text/plain": [
              "None          745\n",
              "a              55\n",
              "Charlie        12\n",
              "Cooper         11\n",
              "Lucy           11\n",
              "             ... \n",
              "Dex             1\n",
              "Ace             1\n",
              "Tayzie          1\n",
              "Grizzie         1\n",
              "Christoper      1\n",
              "Name: name, Length: 957, dtype: int64"
            ]
          },
          "execution_count": 12,
          "metadata": {},
          "output_type": "execute_result"
        }
      ],
      "source": [
        "#Getting the count of unique dog name\n",
        "archive.name.value_counts()"
      ]
    },
    {
      "cell_type": "code",
      "execution_count": null,
      "id": "3443d351",
      "metadata": {
        "id": "3443d351",
        "outputId": "1144e352-3628-49b1-fbe7-bcae17cbb522"
      },
      "outputs": [
        {
          "data": {
            "text/plain": [
              "10     2333\n",
              "11        3\n",
              "50        3\n",
              "20        2\n",
              "80        2\n",
              "70        1\n",
              "7         1\n",
              "15        1\n",
              "150       1\n",
              "170       1\n",
              "0         1\n",
              "90        1\n",
              "40        1\n",
              "130       1\n",
              "110       1\n",
              "16        1\n",
              "120       1\n",
              "2         1\n",
              "Name: rating_denominator, dtype: int64"
            ]
          },
          "execution_count": 13,
          "metadata": {},
          "output_type": "execute_result"
        }
      ],
      "source": [
        "#Getting the count of unique rating denominator value\n",
        "archive.rating_denominator.value_counts()"
      ]
    },
    {
      "cell_type": "code",
      "execution_count": null,
      "id": "c318c727",
      "metadata": {
        "id": "c318c727",
        "outputId": "79803d87-ece8-4ead-9293-9b83a5cbcd9b"
      },
      "outputs": [
        {
          "data": {
            "text/plain": [
              "array(['<a href=\"http://twitter.com/download/iphone\" rel=\"nofollow\">Twitter for iPhone</a>',\n",
              "       '<a href=\"http://twitter.com\" rel=\"nofollow\">Twitter Web Client</a>',\n",
              "       '<a href=\"http://vine.co\" rel=\"nofollow\">Vine - Make a Scene</a>',\n",
              "       '<a href=\"https://about.twitter.com/products/tweetdeck\" rel=\"nofollow\">TweetDeck</a>'],\n",
              "      dtype=object)"
            ]
          },
          "execution_count": 14,
          "metadata": {},
          "output_type": "execute_result"
        }
      ],
      "source": [
        "#Identifying unique values in the source column\n",
        "archive.source.unique()"
      ]
    },
    {
      "cell_type": "code",
      "execution_count": null,
      "id": "03c3d4bc",
      "metadata": {
        "id": "03c3d4bc",
        "outputId": "2be5f1c6-9b25-4c87-9493-46303a7bb484"
      },
      "outputs": [
        {
          "data": {
            "text/plain": [
              "0"
            ]
          },
          "execution_count": 15,
          "metadata": {},
          "output_type": "execute_result"
        }
      ],
      "source": [
        "#Checking for duplicate values using tweet_id column\n",
        "archive.tweet_id.duplicated().sum()"
      ]
    },
    {
      "cell_type": "code",
      "execution_count": null,
      "id": "cf77aca9",
      "metadata": {
        "id": "cf77aca9",
        "outputId": "1cd42fb9-11c6-4dd4-aea1-a4fe4a605e70"
      },
      "outputs": [
        {
          "data": {
            "text/plain": [
              "66"
            ]
          },
          "execution_count": 16,
          "metadata": {},
          "output_type": "execute_result"
        }
      ],
      "source": [
        "#Checking for duplicate using the jpg_url column in image_prediction dataframe\n",
        "image_prediction.jpg_url.duplicated().sum()"
      ]
    },
    {
      "cell_type": "code",
      "execution_count": null,
      "id": "4936a15d",
      "metadata": {
        "id": "4936a15d",
        "outputId": "74f9e5b2-49d9-4bd6-81ce-007f3ac7007b"
      },
      "outputs": [
        {
          "data": {
            "text/plain": [
              "0"
            ]
          },
          "execution_count": 17,
          "metadata": {},
          "output_type": "execute_result"
        }
      ],
      "source": [
        "#Checking for duplicates in the tweet_data dataframe\n",
        "tweet_data.duplicated().sum()"
      ]
    },
    {
      "cell_type": "markdown",
      "id": "fc9275d1",
      "metadata": {
        "id": "fc9275d1"
      },
      "source": [
        "### Quality Issues\n",
        "\n",
        "#### `archive` table\n",
        "* Timestamp column is an object data type\n",
        "* There are some tweets with retweeted_id\n",
        "* Null values are written as 'None' in all the dog stages columns\n",
        "* Some of the values in the rating denominator column are not 10\n",
        "* source column contains html tags\n",
        "* some columns are not needed for the analysis\n",
        "\n",
        "#### `image_prediction` table\n",
        "* Duplicate values in jpg_url column\n",
        "* some images were not predicted as dog\n",
        "* some columns are not needed for the analysis\n",
        "\n",
        "\n",
        "### Tidiness Issues\n",
        "\n",
        "* dog stages (doggo\tfloofer\tpupper\tpuppo) in 4 different columns in `archive` table\n",
        "* all the 3 dataframes should be combined as one\n"
      ]
    },
    {
      "cell_type": "markdown",
      "id": "64c24c75",
      "metadata": {
        "id": "64c24c75"
      },
      "source": [
        "## Cleaning Data"
      ]
    },
    {
      "cell_type": "code",
      "execution_count": 8,
      "id": "ea527881",
      "metadata": {
        "id": "ea527881"
      },
      "outputs": [],
      "source": [
        "#Making a copy of all dataframe\n",
        "archive_clean = archive.copy()\n",
        "image_prediction_clean = image_prediction.copy()\n",
        "tweet_data_clean = tweet_data.copy()"
      ]
    },
    {
      "cell_type": "markdown",
      "id": "4c094f56",
      "metadata": {
        "id": "4c094f56"
      },
      "source": [
        "### There are some tweets with retweeted_id"
      ]
    },
    {
      "cell_type": "markdown",
      "id": "b200f866",
      "metadata": {
        "id": "b200f866"
      },
      "source": [
        "### Define\n",
        "Extract tweets data with null retweeted_id"
      ]
    },
    {
      "cell_type": "markdown",
      "id": "a641f750",
      "metadata": {
        "id": "a641f750"
      },
      "source": [
        "### Code"
      ]
    },
    {
      "cell_type": "code",
      "execution_count": 9,
      "id": "c800e86d",
      "metadata": {
        "id": "c800e86d"
      },
      "outputs": [],
      "source": [
        "#Subseting the data frame isnull method\n",
        "archive_clean = archive_clean[archive_clean.retweeted_status_id.isnull()]"
      ]
    },
    {
      "cell_type": "markdown",
      "id": "16a4e29f",
      "metadata": {
        "id": "16a4e29f"
      },
      "source": [
        "### Test"
      ]
    },
    {
      "cell_type": "code",
      "execution_count": 10,
      "id": "d4ffd0a0",
      "metadata": {
        "colab": {
          "base_uri": "https://localhost:8080/"
        },
        "id": "d4ffd0a0",
        "outputId": "d15249b0-328e-4ea3-8cf0-c46299b335c6"
      },
      "outputs": [
        {
          "output_type": "execute_result",
          "data": {
            "text/plain": [
              "0"
            ]
          },
          "metadata": {},
          "execution_count": 10
        }
      ],
      "source": [
        "archive_clean.retweeted_status_id.notnull().sum()"
      ]
    },
    {
      "cell_type": "markdown",
      "id": "dfc6317f",
      "metadata": {
        "id": "dfc6317f"
      },
      "source": [
        "### Timestamp column is an object data type"
      ]
    },
    {
      "cell_type": "markdown",
      "id": "c29701a2",
      "metadata": {
        "id": "c29701a2"
      },
      "source": [
        "### Define\n",
        "Convert the timestamp column data type to datetime"
      ]
    },
    {
      "cell_type": "markdown",
      "id": "ca7707ac",
      "metadata": {
        "id": "ca7707ac"
      },
      "source": [
        "### Code"
      ]
    },
    {
      "cell_type": "code",
      "execution_count": 11,
      "id": "5d832727",
      "metadata": {
        "id": "5d832727"
      },
      "outputs": [],
      "source": [
        "archive_clean.timestamp = pd.to_datetime(archive_clean.timestamp)"
      ]
    },
    {
      "cell_type": "markdown",
      "id": "76e31634",
      "metadata": {
        "id": "76e31634"
      },
      "source": [
        "### Test"
      ]
    },
    {
      "cell_type": "code",
      "execution_count": 12,
      "id": "8c14d562",
      "metadata": {
        "colab": {
          "base_uri": "https://localhost:8080/"
        },
        "id": "8c14d562",
        "outputId": "68b32b1b-8175-4262-d2f1-dbed20ac278f"
      },
      "outputs": [
        {
          "output_type": "execute_result",
          "data": {
            "text/plain": [
              "datetime64[ns, UTC]"
            ]
          },
          "metadata": {},
          "execution_count": 12
        }
      ],
      "source": [
        "archive_clean.timestamp.dtypes"
      ]
    },
    {
      "cell_type": "markdown",
      "id": "e98f52e0",
      "metadata": {
        "id": "e98f52e0"
      },
      "source": [
        "### Some of the values in the rating denominator column are not 10"
      ]
    },
    {
      "cell_type": "markdown",
      "id": "60726eef",
      "metadata": {
        "id": "60726eef"
      },
      "source": [
        "### Define\n",
        "Drop rows where the rating denominator is not equal to 10"
      ]
    },
    {
      "cell_type": "markdown",
      "id": "d6f3296a",
      "metadata": {
        "id": "d6f3296a"
      },
      "source": [
        "### Code"
      ]
    },
    {
      "cell_type": "code",
      "execution_count": 13,
      "id": "16a53cf4",
      "metadata": {
        "id": "16a53cf4"
      },
      "outputs": [],
      "source": [
        "archive_clean = archive_clean[archive_clean.rating_denominator==10]"
      ]
    },
    {
      "cell_type": "markdown",
      "id": "2eec7aba",
      "metadata": {
        "id": "2eec7aba"
      },
      "source": [
        "### Test"
      ]
    },
    {
      "cell_type": "code",
      "execution_count": 14,
      "id": "12271089",
      "metadata": {
        "colab": {
          "base_uri": "https://localhost:8080/"
        },
        "id": "12271089",
        "outputId": "c0f98291-4c2f-4741-baaf-ccc4652be5d6"
      },
      "outputs": [
        {
          "output_type": "execute_result",
          "data": {
            "text/plain": [
              "array([10])"
            ]
          },
          "metadata": {},
          "execution_count": 14
        }
      ],
      "source": [
        "archive_clean.rating_denominator.unique()"
      ]
    },
    {
      "cell_type": "markdown",
      "id": "bdc6afff",
      "metadata": {
        "id": "bdc6afff"
      },
      "source": [
        "### Source column contains htmltags"
      ]
    },
    {
      "cell_type": "markdown",
      "id": "acac82ac",
      "metadata": {
        "id": "acac82ac"
      },
      "source": [
        "### Define\n",
        "Extract the tweet source from source column using the replace method"
      ]
    },
    {
      "cell_type": "markdown",
      "id": "d96d7ae5",
      "metadata": {
        "id": "d96d7ae5"
      },
      "source": [
        "### Code"
      ]
    },
    {
      "cell_type": "code",
      "execution_count": 15,
      "id": "9ecf6bc6",
      "metadata": {
        "id": "9ecf6bc6"
      },
      "outputs": [],
      "source": [
        "archive_clean.source.replace('<a href=\"http://twitter.com/download/iphone\" rel=\"nofollow\">Twitter for iPhone</a>','Twitter for iPhone', inplace = True)\n",
        "archive_clean.source.replace('<a href=\"http://twitter.com\" rel=\"nofollow\">Twitter Web Client</a>', 'Twitter Web Client',inplace = True)\n",
        "archive_clean.source.replace('<a href=\"http://vine.co\" rel=\"nofollow\">Vine - Make a Scene</a>', 'Make a Scene', inplace = True)\n",
        "archive_clean.source.replace('<a href=\"https://about.twitter.com/products/tweetdeck\" rel=\"nofollow\">TweetDeck</a>', 'TweetDeck', inplace = True)"
      ]
    },
    {
      "cell_type": "markdown",
      "id": "d11eac9a",
      "metadata": {
        "id": "d11eac9a"
      },
      "source": [
        "### Test"
      ]
    },
    {
      "cell_type": "code",
      "execution_count": 16,
      "id": "02b034ed",
      "metadata": {
        "colab": {
          "base_uri": "https://localhost:8080/"
        },
        "id": "02b034ed",
        "outputId": "6248fabf-f73e-43fd-fd64-167417130d2a"
      },
      "outputs": [
        {
          "output_type": "execute_result",
          "data": {
            "text/plain": [
              "array(['Twitter for iPhone', 'Twitter Web Client', 'Make a Scene',\n",
              "       'TweetDeck'], dtype=object)"
            ]
          },
          "metadata": {},
          "execution_count": 16
        }
      ],
      "source": [
        "archive_clean.source.unique()"
      ]
    },
    {
      "cell_type": "markdown",
      "id": "ff5edf42",
      "metadata": {
        "id": "ff5edf42"
      },
      "source": [
        "### Dog stages in 4 different columns"
      ]
    },
    {
      "cell_type": "markdown",
      "id": "c15b329e",
      "metadata": {
        "id": "c15b329e"
      },
      "source": [
        "### Define\n",
        "Combine Dog stages into one column (dog_stage)"
      ]
    },
    {
      "cell_type": "markdown",
      "id": "798ea795",
      "metadata": {
        "id": "798ea795"
      },
      "source": [
        "### Code"
      ]
    },
    {
      "cell_type": "code",
      "execution_count": 17,
      "id": "35e5ef2b",
      "metadata": {
        "id": "35e5ef2b"
      },
      "outputs": [],
      "source": [
        "archive_clean.replace('None', '', inplace = True)\n",
        "archive_clean['dog_stage'] = archive_clean.doggo+ archive_clean.floofer+archive_clean.pupper+archive_clean.puppo\n",
        "archive_clean.replace('', 'None', inplace = True)\n",
        "archive_clean.drop(['doggo','floofer','pupper','puppo'],axis = 1, inplace = True)"
      ]
    },
    {
      "cell_type": "markdown",
      "id": "558966e6",
      "metadata": {
        "id": "558966e6"
      },
      "source": [
        "### Test"
      ]
    },
    {
      "cell_type": "code",
      "execution_count": 18,
      "id": "d367b490",
      "metadata": {
        "colab": {
          "base_uri": "https://localhost:8080/"
        },
        "id": "d367b490",
        "outputId": "dd78fd42-4403-482e-8a82-ec6216b0f7e5"
      },
      "outputs": [
        {
          "output_type": "execute_result",
          "data": {
            "text/plain": [
              "None            1809\n",
              "pupper           224\n",
              "doggo             75\n",
              "puppo             24\n",
              "doggopupper       10\n",
              "floofer            9\n",
              "doggopuppo         1\n",
              "doggofloofer       1\n",
              "Name: dog_stage, dtype: int64"
            ]
          },
          "metadata": {},
          "execution_count": 18
        }
      ],
      "source": [
        "archive_clean.dog_stage.value_counts()"
      ]
    },
    {
      "cell_type": "code",
      "execution_count": 19,
      "id": "25a09f41",
      "metadata": {
        "colab": {
          "base_uri": "https://localhost:8080/"
        },
        "id": "25a09f41",
        "outputId": "1396e3f2-10dc-44ca-d70a-3b71a37a0e6a"
      },
      "outputs": [
        {
          "output_type": "stream",
          "name": "stdout",
          "text": [
            "<class 'pandas.core.frame.DataFrame'>\n",
            "Int64Index: 2153 entries, 0 to 2355\n",
            "Data columns (total 14 columns):\n",
            " #   Column                      Non-Null Count  Dtype              \n",
            "---  ------                      --------------  -----              \n",
            " 0   tweet_id                    2153 non-null   int64              \n",
            " 1   in_reply_to_status_id       73 non-null     float64            \n",
            " 2   in_reply_to_user_id         73 non-null     float64            \n",
            " 3   timestamp                   2153 non-null   datetime64[ns, UTC]\n",
            " 4   source                      2153 non-null   object             \n",
            " 5   text                        2153 non-null   object             \n",
            " 6   retweeted_status_id         0 non-null      float64            \n",
            " 7   retweeted_status_user_id    0 non-null      float64            \n",
            " 8   retweeted_status_timestamp  0 non-null      float64            \n",
            " 9   expanded_urls               2099 non-null   object             \n",
            " 10  rating_numerator            2153 non-null   int64              \n",
            " 11  rating_denominator          2153 non-null   int64              \n",
            " 12  name                        2153 non-null   object             \n",
            " 13  dog_stage                   2153 non-null   object             \n",
            "dtypes: datetime64[ns, UTC](1), float64(5), int64(3), object(5)\n",
            "memory usage: 252.3+ KB\n"
          ]
        }
      ],
      "source": [
        "archive_clean.info()"
      ]
    },
    {
      "cell_type": "markdown",
      "id": "c4c876a5",
      "metadata": {
        "id": "c4c876a5"
      },
      "source": [
        "### Some columns are not needed for analysis"
      ]
    },
    {
      "cell_type": "markdown",
      "id": "1d700d8f",
      "metadata": {
        "id": "1d700d8f"
      },
      "source": [
        "### Define\n",
        "Drop the columns that will not be required for the analysis"
      ]
    },
    {
      "cell_type": "markdown",
      "id": "9025bac4",
      "metadata": {
        "id": "9025bac4"
      },
      "source": [
        "### Code"
      ]
    },
    {
      "cell_type": "code",
      "execution_count": 20,
      "id": "28daef5c",
      "metadata": {
        "id": "28daef5c"
      },
      "outputs": [],
      "source": [
        "archive_clean.drop(columns = ['in_reply_to_status_id','in_reply_to_user_id','text','retweeted_status_id','retweeted_status_user_id',\n",
        "                       'retweeted_status_timestamp','expanded_urls'],inplace = True)"
      ]
    },
    {
      "cell_type": "markdown",
      "id": "2c429d98",
      "metadata": {
        "id": "2c429d98"
      },
      "source": [
        "### Test"
      ]
    },
    {
      "cell_type": "code",
      "execution_count": 21,
      "id": "08a95128",
      "metadata": {
        "colab": {
          "base_uri": "https://localhost:8080/"
        },
        "id": "08a95128",
        "outputId": "90590142-2729-4a4e-a350-baeba50f9dc0"
      },
      "outputs": [
        {
          "output_type": "stream",
          "name": "stdout",
          "text": [
            "<class 'pandas.core.frame.DataFrame'>\n",
            "Int64Index: 2153 entries, 0 to 2355\n",
            "Data columns (total 7 columns):\n",
            " #   Column              Non-Null Count  Dtype              \n",
            "---  ------              --------------  -----              \n",
            " 0   tweet_id            2153 non-null   int64              \n",
            " 1   timestamp           2153 non-null   datetime64[ns, UTC]\n",
            " 2   source              2153 non-null   object             \n",
            " 3   rating_numerator    2153 non-null   int64              \n",
            " 4   rating_denominator  2153 non-null   int64              \n",
            " 5   name                2153 non-null   object             \n",
            " 6   dog_stage           2153 non-null   object             \n",
            "dtypes: datetime64[ns, UTC](1), int64(3), object(3)\n",
            "memory usage: 134.6+ KB\n"
          ]
        }
      ],
      "source": [
        "archive_clean.info()"
      ]
    },
    {
      "cell_type": "markdown",
      "id": "a8eaf5b8",
      "metadata": {
        "id": "a8eaf5b8"
      },
      "source": [
        "### jpg_url column contains duplicates"
      ]
    },
    {
      "cell_type": "markdown",
      "id": "aec271fd",
      "metadata": {
        "id": "aec271fd"
      },
      "source": [
        "### Define\n",
        "Drop duplicates found in jpg_url column"
      ]
    },
    {
      "cell_type": "markdown",
      "id": "a31a4569",
      "metadata": {
        "id": "a31a4569"
      },
      "source": [
        "### Code"
      ]
    },
    {
      "cell_type": "code",
      "execution_count": 22,
      "id": "fcdc5ee3",
      "metadata": {
        "id": "fcdc5ee3"
      },
      "outputs": [],
      "source": [
        "image_prediction_clean = image_prediction_clean.drop_duplicates(subset = 'jpg_url')"
      ]
    },
    {
      "cell_type": "markdown",
      "id": "a1d530df",
      "metadata": {
        "id": "a1d530df"
      },
      "source": [
        "### Test"
      ]
    },
    {
      "cell_type": "code",
      "execution_count": 23,
      "id": "e66b0c0e",
      "metadata": {
        "colab": {
          "base_uri": "https://localhost:8080/"
        },
        "id": "e66b0c0e",
        "outputId": "016fd8dd-f369-40a5-db2a-0cd656fd4778"
      },
      "outputs": [
        {
          "output_type": "execute_result",
          "data": {
            "text/plain": [
              "0"
            ]
          },
          "metadata": {},
          "execution_count": 23
        }
      ],
      "source": [
        "image_prediction_clean.jpg_url.duplicated().sum()"
      ]
    },
    {
      "cell_type": "markdown",
      "id": "ea8e9031",
      "metadata": {
        "id": "ea8e9031"
      },
      "source": [
        "### Some images were not predicted as dog"
      ]
    },
    {
      "cell_type": "markdown",
      "id": "da945d07",
      "metadata": {
        "id": "da945d07"
      },
      "source": [
        "### Define\n",
        "Determine the dog type by the first prediction and drop image that was not predicted as dog"
      ]
    },
    {
      "cell_type": "markdown",
      "id": "ec0f6ca0",
      "metadata": {
        "id": "ec0f6ca0"
      },
      "source": [
        "### Code"
      ]
    },
    {
      "cell_type": "code",
      "execution_count": 24,
      "id": "dea281bb",
      "metadata": {
        "colab": {
          "base_uri": "https://localhost:8080/"
        },
        "id": "dea281bb",
        "outputId": "dce1b593-69a4-43f1-b54f-6dfb7fadcdae"
      },
      "outputs": [
        {
          "output_type": "stream",
          "name": "stderr",
          "text": [
            "<ipython-input-24-2cb67ac0021e>:25: SettingWithCopyWarning: \n",
            "A value is trying to be set on a copy of a slice from a DataFrame\n",
            "\n",
            "See the caveats in the documentation: https://pandas.pydata.org/pandas-docs/stable/user_guide/indexing.html#returning-a-view-versus-a-copy\n",
            "  image_prediction_clean.drop(['img_num','p1','p1_conf','p1_dog',\n"
          ]
        }
      ],
      "source": [
        "dog_type = []\n",
        "confidence_level = []\n",
        "\n",
        "def predict_dog(df):\n",
        "    if df.p1_dog == True:\n",
        "        dog_type.append(df.p1)\n",
        "        confidence_level.append(df.p1_conf)\n",
        "    elif df.p2_dog == True:\n",
        "        dog_type.append(df.p2)\n",
        "        confidence_level.append(df.p2_conf)\n",
        "    elif df.p3_dog == True:\n",
        "        dog_type.append(df.p3)\n",
        "        confidence_level.append(df.p3_conf)\n",
        "    else:\n",
        "        dog_type.append(np.nan)\n",
        "        confidence_level.append(np.nan)\n",
        "\n",
        "image_prediction_clean.apply(predict_dog, axis =1)\n",
        "\n",
        "image_prediction_clean['dog_type'] = dog_type\n",
        "image_prediction_clean['confidence_level'] = confidence_level\n",
        "\n",
        "image_prediction_clean = image_prediction_clean.dropna()\n",
        "\n",
        "image_prediction_clean.drop(['img_num','p1','p1_conf','p1_dog',\n",
        "                             'p2','p2_conf','p2_dog',\n",
        "                            'p3','p3_conf','p3_dog'], axis = 1, inplace = True)"
      ]
    },
    {
      "cell_type": "markdown",
      "id": "b1328c7c",
      "metadata": {
        "id": "b1328c7c"
      },
      "source": [
        "### Test"
      ]
    },
    {
      "cell_type": "code",
      "execution_count": 25,
      "id": "7fd0890f",
      "metadata": {
        "colab": {
          "base_uri": "https://localhost:8080/"
        },
        "id": "7fd0890f",
        "outputId": "c09a8be1-5a27-4a40-d5ed-0854ff2d7caf"
      },
      "outputs": [
        {
          "output_type": "stream",
          "name": "stdout",
          "text": [
            "<class 'pandas.core.frame.DataFrame'>\n",
            "Int64Index: 1691 entries, 0 to 2073\n",
            "Data columns (total 4 columns):\n",
            " #   Column            Non-Null Count  Dtype  \n",
            "---  ------            --------------  -----  \n",
            " 0   tweet_id          1691 non-null   int64  \n",
            " 1   jpg_url           1691 non-null   object \n",
            " 2   dog_type          1691 non-null   object \n",
            " 3   confidence_level  1691 non-null   float64\n",
            "dtypes: float64(1), int64(1), object(2)\n",
            "memory usage: 66.1+ KB\n"
          ]
        }
      ],
      "source": [
        "image_prediction_clean.info()"
      ]
    },
    {
      "cell_type": "markdown",
      "id": "b6270e1e",
      "metadata": {
        "id": "b6270e1e"
      },
      "source": [
        "### All the 3 dataframe should be merged together"
      ]
    },
    {
      "cell_type": "markdown",
      "id": "2d67d239",
      "metadata": {
        "id": "2d67d239"
      },
      "source": [
        "### Define\n",
        "Merged the 3 dataframe (archive_clean, image_prediction_clean, tweet_data) together "
      ]
    },
    {
      "cell_type": "markdown",
      "id": "1276a7e6",
      "metadata": {
        "id": "1276a7e6"
      },
      "source": [
        "### Code"
      ]
    },
    {
      "cell_type": "code",
      "execution_count": 26,
      "id": "10ab71b4",
      "metadata": {
        "id": "10ab71b4"
      },
      "outputs": [],
      "source": [
        "master_df = archive_clean.merge(image_prediction_clean, how = 'inner', on  = 'tweet_id')\n",
        "master_df = master_df.merge(tweet_data_clean, how = 'inner', left_on = 'tweet_id', right_on = 'tweet_ID')\n",
        "master_df.drop('tweet_ID', axis =1,inplace = True)"
      ]
    },
    {
      "cell_type": "markdown",
      "id": "4972c8ea",
      "metadata": {
        "id": "4972c8ea"
      },
      "source": [
        "### Test"
      ]
    },
    {
      "cell_type": "code",
      "execution_count": 27,
      "id": "9e406862",
      "metadata": {
        "colab": {
          "base_uri": "https://localhost:8080/",
          "height": 443
        },
        "id": "9e406862",
        "outputId": "97df674c-cf80-49fa-8993-8b27e916e215"
      },
      "outputs": [
        {
          "output_type": "execute_result",
          "data": {
            "text/plain": [
              "             tweet_id                 timestamp              source  \\\n",
              "0  892177421306343426 2017-08-01 00:17:27+00:00  Twitter for iPhone   \n",
              "1  891815181378084864 2017-07-31 00:18:03+00:00  Twitter for iPhone   \n",
              "2  891689557279858688 2017-07-30 15:58:51+00:00  Twitter for iPhone   \n",
              "3  891327558926688256 2017-07-29 16:00:24+00:00  Twitter for iPhone   \n",
              "4  891087950875897856 2017-07-29 00:08:17+00:00  Twitter for iPhone   \n",
              "\n",
              "   rating_numerator  rating_denominator      name dog_stage  \\\n",
              "0                13                  10     Tilly      None   \n",
              "1                12                  10    Archie      None   \n",
              "2                13                  10     Darla      None   \n",
              "3                12                  10  Franklin      None   \n",
              "4                13                  10      None      None   \n",
              "\n",
              "                                           jpg_url                  dog_type  \\\n",
              "0  https://pbs.twimg.com/media/DGGmoV4XsAAUL6n.jpg                 Chihuahua   \n",
              "1  https://pbs.twimg.com/media/DGBdLU1WsAANxJ9.jpg                 Chihuahua   \n",
              "2  https://pbs.twimg.com/media/DF_q7IAWsAEuuN8.jpg        Labrador_retriever   \n",
              "3  https://pbs.twimg.com/media/DF6hr6BUMAAzZgT.jpg                    basset   \n",
              "4  https://pbs.twimg.com/media/DF3HwyEWsAABqE6.jpg  Chesapeake_Bay_retriever   \n",
              "\n",
              "   confidence_level  retweet_count  favorite_count  \n",
              "0          0.323581           6514           33819  \n",
              "1          0.716012           4328           25461  \n",
              "2          0.168086           8964           42908  \n",
              "3          0.555712           9774           41048  \n",
              "4          0.425595           3261           20562  "
            ],
            "text/html": [
              "\n",
              "  <div id=\"df-2fde272f-4504-4667-b6f6-02070df81b6a\">\n",
              "    <div class=\"colab-df-container\">\n",
              "      <div>\n",
              "<style scoped>\n",
              "    .dataframe tbody tr th:only-of-type {\n",
              "        vertical-align: middle;\n",
              "    }\n",
              "\n",
              "    .dataframe tbody tr th {\n",
              "        vertical-align: top;\n",
              "    }\n",
              "\n",
              "    .dataframe thead th {\n",
              "        text-align: right;\n",
              "    }\n",
              "</style>\n",
              "<table border=\"1\" class=\"dataframe\">\n",
              "  <thead>\n",
              "    <tr style=\"text-align: right;\">\n",
              "      <th></th>\n",
              "      <th>tweet_id</th>\n",
              "      <th>timestamp</th>\n",
              "      <th>source</th>\n",
              "      <th>rating_numerator</th>\n",
              "      <th>rating_denominator</th>\n",
              "      <th>name</th>\n",
              "      <th>dog_stage</th>\n",
              "      <th>jpg_url</th>\n",
              "      <th>dog_type</th>\n",
              "      <th>confidence_level</th>\n",
              "      <th>retweet_count</th>\n",
              "      <th>favorite_count</th>\n",
              "    </tr>\n",
              "  </thead>\n",
              "  <tbody>\n",
              "    <tr>\n",
              "      <th>0</th>\n",
              "      <td>892177421306343426</td>\n",
              "      <td>2017-08-01 00:17:27+00:00</td>\n",
              "      <td>Twitter for iPhone</td>\n",
              "      <td>13</td>\n",
              "      <td>10</td>\n",
              "      <td>Tilly</td>\n",
              "      <td>None</td>\n",
              "      <td>https://pbs.twimg.com/media/DGGmoV4XsAAUL6n.jpg</td>\n",
              "      <td>Chihuahua</td>\n",
              "      <td>0.323581</td>\n",
              "      <td>6514</td>\n",
              "      <td>33819</td>\n",
              "    </tr>\n",
              "    <tr>\n",
              "      <th>1</th>\n",
              "      <td>891815181378084864</td>\n",
              "      <td>2017-07-31 00:18:03+00:00</td>\n",
              "      <td>Twitter for iPhone</td>\n",
              "      <td>12</td>\n",
              "      <td>10</td>\n",
              "      <td>Archie</td>\n",
              "      <td>None</td>\n",
              "      <td>https://pbs.twimg.com/media/DGBdLU1WsAANxJ9.jpg</td>\n",
              "      <td>Chihuahua</td>\n",
              "      <td>0.716012</td>\n",
              "      <td>4328</td>\n",
              "      <td>25461</td>\n",
              "    </tr>\n",
              "    <tr>\n",
              "      <th>2</th>\n",
              "      <td>891689557279858688</td>\n",
              "      <td>2017-07-30 15:58:51+00:00</td>\n",
              "      <td>Twitter for iPhone</td>\n",
              "      <td>13</td>\n",
              "      <td>10</td>\n",
              "      <td>Darla</td>\n",
              "      <td>None</td>\n",
              "      <td>https://pbs.twimg.com/media/DF_q7IAWsAEuuN8.jpg</td>\n",
              "      <td>Labrador_retriever</td>\n",
              "      <td>0.168086</td>\n",
              "      <td>8964</td>\n",
              "      <td>42908</td>\n",
              "    </tr>\n",
              "    <tr>\n",
              "      <th>3</th>\n",
              "      <td>891327558926688256</td>\n",
              "      <td>2017-07-29 16:00:24+00:00</td>\n",
              "      <td>Twitter for iPhone</td>\n",
              "      <td>12</td>\n",
              "      <td>10</td>\n",
              "      <td>Franklin</td>\n",
              "      <td>None</td>\n",
              "      <td>https://pbs.twimg.com/media/DF6hr6BUMAAzZgT.jpg</td>\n",
              "      <td>basset</td>\n",
              "      <td>0.555712</td>\n",
              "      <td>9774</td>\n",
              "      <td>41048</td>\n",
              "    </tr>\n",
              "    <tr>\n",
              "      <th>4</th>\n",
              "      <td>891087950875897856</td>\n",
              "      <td>2017-07-29 00:08:17+00:00</td>\n",
              "      <td>Twitter for iPhone</td>\n",
              "      <td>13</td>\n",
              "      <td>10</td>\n",
              "      <td>None</td>\n",
              "      <td>None</td>\n",
              "      <td>https://pbs.twimg.com/media/DF3HwyEWsAABqE6.jpg</td>\n",
              "      <td>Chesapeake_Bay_retriever</td>\n",
              "      <td>0.425595</td>\n",
              "      <td>3261</td>\n",
              "      <td>20562</td>\n",
              "    </tr>\n",
              "  </tbody>\n",
              "</table>\n",
              "</div>\n",
              "      <button class=\"colab-df-convert\" onclick=\"convertToInteractive('df-2fde272f-4504-4667-b6f6-02070df81b6a')\"\n",
              "              title=\"Convert this dataframe to an interactive table.\"\n",
              "              style=\"display:none;\">\n",
              "        \n",
              "  <svg xmlns=\"http://www.w3.org/2000/svg\" height=\"24px\"viewBox=\"0 0 24 24\"\n",
              "       width=\"24px\">\n",
              "    <path d=\"M0 0h24v24H0V0z\" fill=\"none\"/>\n",
              "    <path d=\"M18.56 5.44l.94 2.06.94-2.06 2.06-.94-2.06-.94-.94-2.06-.94 2.06-2.06.94zm-11 1L8.5 8.5l.94-2.06 2.06-.94-2.06-.94L8.5 2.5l-.94 2.06-2.06.94zm10 10l.94 2.06.94-2.06 2.06-.94-2.06-.94-.94-2.06-.94 2.06-2.06.94z\"/><path d=\"M17.41 7.96l-1.37-1.37c-.4-.4-.92-.59-1.43-.59-.52 0-1.04.2-1.43.59L10.3 9.45l-7.72 7.72c-.78.78-.78 2.05 0 2.83L4 21.41c.39.39.9.59 1.41.59.51 0 1.02-.2 1.41-.59l7.78-7.78 2.81-2.81c.8-.78.8-2.07 0-2.86zM5.41 20L4 18.59l7.72-7.72 1.47 1.35L5.41 20z\"/>\n",
              "  </svg>\n",
              "      </button>\n",
              "      \n",
              "  <style>\n",
              "    .colab-df-container {\n",
              "      display:flex;\n",
              "      flex-wrap:wrap;\n",
              "      gap: 12px;\n",
              "    }\n",
              "\n",
              "    .colab-df-convert {\n",
              "      background-color: #E8F0FE;\n",
              "      border: none;\n",
              "      border-radius: 50%;\n",
              "      cursor: pointer;\n",
              "      display: none;\n",
              "      fill: #1967D2;\n",
              "      height: 32px;\n",
              "      padding: 0 0 0 0;\n",
              "      width: 32px;\n",
              "    }\n",
              "\n",
              "    .colab-df-convert:hover {\n",
              "      background-color: #E2EBFA;\n",
              "      box-shadow: 0px 1px 2px rgba(60, 64, 67, 0.3), 0px 1px 3px 1px rgba(60, 64, 67, 0.15);\n",
              "      fill: #174EA6;\n",
              "    }\n",
              "\n",
              "    [theme=dark] .colab-df-convert {\n",
              "      background-color: #3B4455;\n",
              "      fill: #D2E3FC;\n",
              "    }\n",
              "\n",
              "    [theme=dark] .colab-df-convert:hover {\n",
              "      background-color: #434B5C;\n",
              "      box-shadow: 0px 1px 3px 1px rgba(0, 0, 0, 0.15);\n",
              "      filter: drop-shadow(0px 1px 2px rgba(0, 0, 0, 0.3));\n",
              "      fill: #FFFFFF;\n",
              "    }\n",
              "  </style>\n",
              "\n",
              "      <script>\n",
              "        const buttonEl =\n",
              "          document.querySelector('#df-2fde272f-4504-4667-b6f6-02070df81b6a button.colab-df-convert');\n",
              "        buttonEl.style.display =\n",
              "          google.colab.kernel.accessAllowed ? 'block' : 'none';\n",
              "\n",
              "        async function convertToInteractive(key) {\n",
              "          const element = document.querySelector('#df-2fde272f-4504-4667-b6f6-02070df81b6a');\n",
              "          const dataTable =\n",
              "            await google.colab.kernel.invokeFunction('convertToInteractive',\n",
              "                                                     [key], {});\n",
              "          if (!dataTable) return;\n",
              "\n",
              "          const docLinkHtml = 'Like what you see? Visit the ' +\n",
              "            '<a target=\"_blank\" href=https://colab.research.google.com/notebooks/data_table.ipynb>data table notebook</a>'\n",
              "            + ' to learn more about interactive tables.';\n",
              "          element.innerHTML = '';\n",
              "          dataTable['output_type'] = 'display_data';\n",
              "          await google.colab.output.renderOutput(dataTable, element);\n",
              "          const docLink = document.createElement('div');\n",
              "          docLink.innerHTML = docLinkHtml;\n",
              "          element.appendChild(docLink);\n",
              "        }\n",
              "      </script>\n",
              "    </div>\n",
              "  </div>\n",
              "  "
            ]
          },
          "metadata": {},
          "execution_count": 27
        }
      ],
      "source": [
        "master_df.head()"
      ]
    },
    {
      "cell_type": "markdown",
      "id": "da470706",
      "metadata": {
        "id": "da470706"
      },
      "source": [
        "## Storing Data"
      ]
    },
    {
      "cell_type": "code",
      "execution_count": null,
      "id": "20542d63",
      "metadata": {
        "id": "20542d63"
      },
      "outputs": [],
      "source": [
        "master_df.to_csv('twitter_archive_master.csv', index = False)"
      ]
    },
    {
      "cell_type": "markdown",
      "id": "7d413614",
      "metadata": {
        "id": "7d413614"
      },
      "source": [
        "## Analyzing and Visualization"
      ]
    },
    {
      "cell_type": "code",
      "execution_count": 28,
      "id": "f29721e1",
      "metadata": {
        "colab": {
          "base_uri": "https://localhost:8080/",
          "height": 443
        },
        "id": "f29721e1",
        "outputId": "6bd07bc9-73b2-497a-d0d6-d5d242549b0f"
      },
      "outputs": [
        {
          "output_type": "execute_result",
          "data": {
            "text/plain": [
              "             tweet_id                  timestamp              source  \\\n",
              "0  892177421306343426  2017-08-01 00:17:27+00:00  Twitter for iPhone   \n",
              "1  891815181378084864  2017-07-31 00:18:03+00:00  Twitter for iPhone   \n",
              "2  891689557279858688  2017-07-30 15:58:51+00:00  Twitter for iPhone   \n",
              "3  891327558926688256  2017-07-29 16:00:24+00:00  Twitter for iPhone   \n",
              "4  891087950875897856  2017-07-29 00:08:17+00:00  Twitter for iPhone   \n",
              "\n",
              "   rating_numerator  rating_denominator      name dog_stage  \\\n",
              "0                13                  10     Tilly      None   \n",
              "1                12                  10    Archie      None   \n",
              "2                13                  10     Darla      None   \n",
              "3                12                  10  Franklin      None   \n",
              "4                13                  10      None      None   \n",
              "\n",
              "                                           jpg_url                  dog_type  \\\n",
              "0  https://pbs.twimg.com/media/DGGmoV4XsAAUL6n.jpg                 Chihuahua   \n",
              "1  https://pbs.twimg.com/media/DGBdLU1WsAANxJ9.jpg                 Chihuahua   \n",
              "2  https://pbs.twimg.com/media/DF_q7IAWsAEuuN8.jpg        Labrador_retriever   \n",
              "3  https://pbs.twimg.com/media/DF6hr6BUMAAzZgT.jpg                    basset   \n",
              "4  https://pbs.twimg.com/media/DF3HwyEWsAABqE6.jpg  Chesapeake_Bay_retriever   \n",
              "\n",
              "   confidence_level  retweet_count  favorite_count  \n",
              "0          0.323581           6514           33819  \n",
              "1          0.716012           4328           25461  \n",
              "2          0.168086           8964           42908  \n",
              "3          0.555712           9774           41048  \n",
              "4          0.425595           3261           20562  "
            ],
            "text/html": [
              "\n",
              "  <div id=\"df-2bfb0a13-20f9-4079-9a0a-e2d26f7f084d\">\n",
              "    <div class=\"colab-df-container\">\n",
              "      <div>\n",
              "<style scoped>\n",
              "    .dataframe tbody tr th:only-of-type {\n",
              "        vertical-align: middle;\n",
              "    }\n",
              "\n",
              "    .dataframe tbody tr th {\n",
              "        vertical-align: top;\n",
              "    }\n",
              "\n",
              "    .dataframe thead th {\n",
              "        text-align: right;\n",
              "    }\n",
              "</style>\n",
              "<table border=\"1\" class=\"dataframe\">\n",
              "  <thead>\n",
              "    <tr style=\"text-align: right;\">\n",
              "      <th></th>\n",
              "      <th>tweet_id</th>\n",
              "      <th>timestamp</th>\n",
              "      <th>source</th>\n",
              "      <th>rating_numerator</th>\n",
              "      <th>rating_denominator</th>\n",
              "      <th>name</th>\n",
              "      <th>dog_stage</th>\n",
              "      <th>jpg_url</th>\n",
              "      <th>dog_type</th>\n",
              "      <th>confidence_level</th>\n",
              "      <th>retweet_count</th>\n",
              "      <th>favorite_count</th>\n",
              "    </tr>\n",
              "  </thead>\n",
              "  <tbody>\n",
              "    <tr>\n",
              "      <th>0</th>\n",
              "      <td>892177421306343426</td>\n",
              "      <td>2017-08-01 00:17:27+00:00</td>\n",
              "      <td>Twitter for iPhone</td>\n",
              "      <td>13</td>\n",
              "      <td>10</td>\n",
              "      <td>Tilly</td>\n",
              "      <td>None</td>\n",
              "      <td>https://pbs.twimg.com/media/DGGmoV4XsAAUL6n.jpg</td>\n",
              "      <td>Chihuahua</td>\n",
              "      <td>0.323581</td>\n",
              "      <td>6514</td>\n",
              "      <td>33819</td>\n",
              "    </tr>\n",
              "    <tr>\n",
              "      <th>1</th>\n",
              "      <td>891815181378084864</td>\n",
              "      <td>2017-07-31 00:18:03+00:00</td>\n",
              "      <td>Twitter for iPhone</td>\n",
              "      <td>12</td>\n",
              "      <td>10</td>\n",
              "      <td>Archie</td>\n",
              "      <td>None</td>\n",
              "      <td>https://pbs.twimg.com/media/DGBdLU1WsAANxJ9.jpg</td>\n",
              "      <td>Chihuahua</td>\n",
              "      <td>0.716012</td>\n",
              "      <td>4328</td>\n",
              "      <td>25461</td>\n",
              "    </tr>\n",
              "    <tr>\n",
              "      <th>2</th>\n",
              "      <td>891689557279858688</td>\n",
              "      <td>2017-07-30 15:58:51+00:00</td>\n",
              "      <td>Twitter for iPhone</td>\n",
              "      <td>13</td>\n",
              "      <td>10</td>\n",
              "      <td>Darla</td>\n",
              "      <td>None</td>\n",
              "      <td>https://pbs.twimg.com/media/DF_q7IAWsAEuuN8.jpg</td>\n",
              "      <td>Labrador_retriever</td>\n",
              "      <td>0.168086</td>\n",
              "      <td>8964</td>\n",
              "      <td>42908</td>\n",
              "    </tr>\n",
              "    <tr>\n",
              "      <th>3</th>\n",
              "      <td>891327558926688256</td>\n",
              "      <td>2017-07-29 16:00:24+00:00</td>\n",
              "      <td>Twitter for iPhone</td>\n",
              "      <td>12</td>\n",
              "      <td>10</td>\n",
              "      <td>Franklin</td>\n",
              "      <td>None</td>\n",
              "      <td>https://pbs.twimg.com/media/DF6hr6BUMAAzZgT.jpg</td>\n",
              "      <td>basset</td>\n",
              "      <td>0.555712</td>\n",
              "      <td>9774</td>\n",
              "      <td>41048</td>\n",
              "    </tr>\n",
              "    <tr>\n",
              "      <th>4</th>\n",
              "      <td>891087950875897856</td>\n",
              "      <td>2017-07-29 00:08:17+00:00</td>\n",
              "      <td>Twitter for iPhone</td>\n",
              "      <td>13</td>\n",
              "      <td>10</td>\n",
              "      <td>None</td>\n",
              "      <td>None</td>\n",
              "      <td>https://pbs.twimg.com/media/DF3HwyEWsAABqE6.jpg</td>\n",
              "      <td>Chesapeake_Bay_retriever</td>\n",
              "      <td>0.425595</td>\n",
              "      <td>3261</td>\n",
              "      <td>20562</td>\n",
              "    </tr>\n",
              "  </tbody>\n",
              "</table>\n",
              "</div>\n",
              "      <button class=\"colab-df-convert\" onclick=\"convertToInteractive('df-2bfb0a13-20f9-4079-9a0a-e2d26f7f084d')\"\n",
              "              title=\"Convert this dataframe to an interactive table.\"\n",
              "              style=\"display:none;\">\n",
              "        \n",
              "  <svg xmlns=\"http://www.w3.org/2000/svg\" height=\"24px\"viewBox=\"0 0 24 24\"\n",
              "       width=\"24px\">\n",
              "    <path d=\"M0 0h24v24H0V0z\" fill=\"none\"/>\n",
              "    <path d=\"M18.56 5.44l.94 2.06.94-2.06 2.06-.94-2.06-.94-.94-2.06-.94 2.06-2.06.94zm-11 1L8.5 8.5l.94-2.06 2.06-.94-2.06-.94L8.5 2.5l-.94 2.06-2.06.94zm10 10l.94 2.06.94-2.06 2.06-.94-2.06-.94-.94-2.06-.94 2.06-2.06.94z\"/><path d=\"M17.41 7.96l-1.37-1.37c-.4-.4-.92-.59-1.43-.59-.52 0-1.04.2-1.43.59L10.3 9.45l-7.72 7.72c-.78.78-.78 2.05 0 2.83L4 21.41c.39.39.9.59 1.41.59.51 0 1.02-.2 1.41-.59l7.78-7.78 2.81-2.81c.8-.78.8-2.07 0-2.86zM5.41 20L4 18.59l7.72-7.72 1.47 1.35L5.41 20z\"/>\n",
              "  </svg>\n",
              "      </button>\n",
              "      \n",
              "  <style>\n",
              "    .colab-df-container {\n",
              "      display:flex;\n",
              "      flex-wrap:wrap;\n",
              "      gap: 12px;\n",
              "    }\n",
              "\n",
              "    .colab-df-convert {\n",
              "      background-color: #E8F0FE;\n",
              "      border: none;\n",
              "      border-radius: 50%;\n",
              "      cursor: pointer;\n",
              "      display: none;\n",
              "      fill: #1967D2;\n",
              "      height: 32px;\n",
              "      padding: 0 0 0 0;\n",
              "      width: 32px;\n",
              "    }\n",
              "\n",
              "    .colab-df-convert:hover {\n",
              "      background-color: #E2EBFA;\n",
              "      box-shadow: 0px 1px 2px rgba(60, 64, 67, 0.3), 0px 1px 3px 1px rgba(60, 64, 67, 0.15);\n",
              "      fill: #174EA6;\n",
              "    }\n",
              "\n",
              "    [theme=dark] .colab-df-convert {\n",
              "      background-color: #3B4455;\n",
              "      fill: #D2E3FC;\n",
              "    }\n",
              "\n",
              "    [theme=dark] .colab-df-convert:hover {\n",
              "      background-color: #434B5C;\n",
              "      box-shadow: 0px 1px 3px 1px rgba(0, 0, 0, 0.15);\n",
              "      filter: drop-shadow(0px 1px 2px rgba(0, 0, 0, 0.3));\n",
              "      fill: #FFFFFF;\n",
              "    }\n",
              "  </style>\n",
              "\n",
              "      <script>\n",
              "        const buttonEl =\n",
              "          document.querySelector('#df-2bfb0a13-20f9-4079-9a0a-e2d26f7f084d button.colab-df-convert');\n",
              "        buttonEl.style.display =\n",
              "          google.colab.kernel.accessAllowed ? 'block' : 'none';\n",
              "\n",
              "        async function convertToInteractive(key) {\n",
              "          const element = document.querySelector('#df-2bfb0a13-20f9-4079-9a0a-e2d26f7f084d');\n",
              "          const dataTable =\n",
              "            await google.colab.kernel.invokeFunction('convertToInteractive',\n",
              "                                                     [key], {});\n",
              "          if (!dataTable) return;\n",
              "\n",
              "          const docLinkHtml = 'Like what you see? Visit the ' +\n",
              "            '<a target=\"_blank\" href=https://colab.research.google.com/notebooks/data_table.ipynb>data table notebook</a>'\n",
              "            + ' to learn more about interactive tables.';\n",
              "          element.innerHTML = '';\n",
              "          dataTable['output_type'] = 'display_data';\n",
              "          await google.colab.output.renderOutput(dataTable, element);\n",
              "          const docLink = document.createElement('div');\n",
              "          docLink.innerHTML = docLinkHtml;\n",
              "          element.appendChild(docLink);\n",
              "        }\n",
              "      </script>\n",
              "    </div>\n",
              "  </div>\n",
              "  "
            ]
          },
          "metadata": {},
          "execution_count": 28
        }
      ],
      "source": [
        "df = pd.read_csv('twitter_archive_master.csv')\n",
        "df.head()"
      ]
    },
    {
      "cell_type": "markdown",
      "id": "d46758bc",
      "metadata": {
        "id": "d46758bc"
      },
      "source": [
        "###  1. What is the distribution of tweet source?"
      ]
    },
    {
      "cell_type": "code",
      "execution_count": 29,
      "id": "ebb0614e",
      "metadata": {
        "colab": {
          "base_uri": "https://localhost:8080/"
        },
        "id": "ebb0614e",
        "outputId": "9b8a1847-f3bc-4664-89b4-271cfff91804"
      },
      "outputs": [
        {
          "output_type": "execute_result",
          "data": {
            "text/plain": [
              "Twitter for iPhone    1638\n",
              "Twitter Web Client      22\n",
              "TweetDeck                9\n",
              "Name: source, dtype: int64"
            ]
          },
          "metadata": {},
          "execution_count": 29
        }
      ],
      "source": [
        "df.source.value_counts()"
      ]
    },
    {
      "cell_type": "code",
      "source": [
        "def addlabels(x,y):\n",
        "    for i in range(len(x)):\n",
        "        plt.text(i, y[i], y[i], ha = 'center')\n",
        " \n",
        "if __name__ == '__main__':\n",
        "   \n",
        "    # creating data on which bar chart will be plot\n",
        "    x = [\"Twitter for iPhone\", \"Twitter Web Client\",\n",
        "         \"TweetDeck\"]\n",
        "    y = [1638, 22, 9]\n",
        "     \n",
        "    # setting figure size by using figure() function\n",
        "    plt.figure(figsize = (10, 5))\n",
        "     \n",
        "    # making the bar chart on the data\n",
        "    plt.bar(x, y)\n",
        "     \n",
        "    # calling the function to add value labels\n",
        "    addlabels(x, y)\n",
        "     \n",
        "    # giving title to the plot\n",
        "    plt.title(\"Distribution of Tweet Source\")\n",
        "     \n",
        "    # giving X and Y labels\n",
        "    plt.xlabel(\"Tweet Source\")\n",
        "    plt.ylabel(\"Count\")"
      ],
      "metadata": {
        "colab": {
          "base_uri": "https://localhost:8080/",
          "height": 350
        },
        "id": "VSfVslT_yj_p",
        "outputId": "59a23632-42bc-4e7e-e0e4-ea9627c7be32"
      },
      "id": "VSfVslT_yj_p",
      "execution_count": 33,
      "outputs": [
        {
          "output_type": "display_data",
          "data": {
            "text/plain": [
              "<Figure size 720x360 with 1 Axes>"
            ],
            "image/png": "[encoded data removed]"
          },
          "metadata": {
            "needs_background": "light"
          }
        }
      ]
    },
    {
      "cell_type": "markdown",
      "id": "ae88d363",
      "metadata": {
        "id": "ae88d363"
      },
      "source": [
        "### 2. What dog type is the most reviewed?"
      ]
    },
    {
      "cell_type": "code",
      "execution_count": null,
      "id": "bae949ed",
      "metadata": {
        "id": "bae949ed",
        "outputId": "6b59534c-dbf5-4f92-deba-8f1366b412e5"
      },
      "outputs": [
        {
          "data": {
            "text/plain": [
              "golden_retriever      154\n",
              "Labrador_retriever    105\n",
              "Pembroke               95\n",
              "Chihuahua              90\n",
              "pug                    62\n",
              "                     ... \n",
              "Scotch_terrier          1\n",
              "EntleBucher             1\n",
              "Japanese_spaniel        1\n",
              "standard_schnauzer      1\n",
              "Irish_wolfhound         1\n",
              "Name: dog_type, Length: 113, dtype: int64"
            ]
          },
          "execution_count": 68,
          "metadata": {},
          "output_type": "execute_result"
        }
      ],
      "source": [
        "df.dog_type.value_counts()"
      ]
    },
    {
      "cell_type": "code",
      "execution_count": null,
      "id": "59ae8ada",
      "metadata": {
        "id": "59ae8ada",
        "outputId": "8be2cf92-c417-40dd-fab7-dfe29984bedb"
      },
      "outputs": [
        {
          "data": {
            "text/plain": [
              "Text(0.5, 1.0, 'Top 5 Most Reviewed Dog Type')"
            ]
          },
          "execution_count": 48,
          "metadata": {},
          "output_type": "execute_result"
        },
        {
          "data": {
            "image/png": "[encoded data removed]",
            "text/plain": [
              "<Figure size 720x432 with 1 Axes>"
            ]
          },
          "metadata": {
            "needs_background": "light"
          },
          "output_type": "display_data"
        }
      ],
      "source": [
        "top_dog_type = df.dog_type.value_counts().head(5)\n",
        "top_dog_type.plot(kind = 'bar', figsize=(10,6))\n",
        "plt.xlabel('Dog Type')\n",
        "plt.ylabel('Dog Type Count')\n",
        "plt.title('Top 5 Most Reviewed Dog Type')"
      ]
    },
    {
      "cell_type": "markdown",
      "id": "4d82ee07",
      "metadata": {
        "id": "4d82ee07"
      },
      "source": [
        "### 3. Which dog type has the most favorite count?"
      ]
    },
    {
      "cell_type": "code",
      "execution_count": null,
      "id": "0e99715e",
      "metadata": {
        "id": "0e99715e",
        "outputId": "471c2535-b582-49ac-a5a6-8f22c60cd55b"
      },
      "outputs": [
        {
          "data": {
            "text/plain": [
              "dog_type\n",
              "Saluki                  24060.000000\n",
              "Bedlington_terrier      21153.166667\n",
              "French_bulldog          18416.806452\n",
              "Bouvier_des_Flandres    18032.000000\n",
              "Afghan_hound            17326.666667\n",
              "                            ...     \n",
              "Tibetan_terrier          1841.000000\n",
              "Irish_wolfhound          1534.000000\n",
              "Japanese_spaniel         1362.000000\n",
              "groenendael              1156.500000\n",
              "Brabancon_griffon         885.000000\n",
              "Name: favorite_count, Length: 113, dtype: float64"
            ]
          },
          "execution_count": 52,
          "metadata": {},
          "output_type": "execute_result"
        }
      ],
      "source": [
        "df.groupby('dog_type')['favorite_count'].mean().sort_values(ascending = False)"
      ]
    },
    {
      "cell_type": "code",
      "execution_count": null,
      "id": "ccafcaff",
      "metadata": {
        "id": "ccafcaff",
        "outputId": "435d8352-d0f1-4fa1-e210-4315a2bf7b7f"
      },
      "outputs": [
        {
          "data": {
            "text/plain": [
              "Text(0.5, 1.0, 'Top 5 Dog Type by Favorite Count')"
            ]
          },
          "execution_count": 56,
          "metadata": {},
          "output_type": "execute_result"
        },
        {
          "data": {
            "image/png": "[encoded data removed]",
            "text/plain": [
              "<Figure size 720x432 with 1 Axes>"
            ]
          },
          "metadata": {
            "needs_background": "light"
          },
          "output_type": "display_data"
        }
      ],
      "source": [
        "df.groupby('dog_type')['favorite_count'].mean().sort_values(ascending = False).head(5).plot(kind = 'barh', figsize = (10,6))\n",
        "plt.xlabel('Mean Favorite Count')\n",
        "plt.ylabel('Dog Type')\n",
        "plt.title('Top 5 Dog Type by Favorite Count')"
      ]
    },
    {
      "cell_type": "markdown",
      "id": "41ecd790",
      "metadata": {
        "id": "41ecd790"
      },
      "source": [
        "### 4. What is the relationship between favorite count and retweet count?"
      ]
    },
    {
      "cell_type": "code",
      "execution_count": null,
      "id": "6e202623",
      "metadata": {
        "id": "6e202623",
        "outputId": "0af71eeb-1550-40b5-8cf8-9a84e1228fa3"
      },
      "outputs": [
        {
          "data": {
            "text/html": [
              "<div>\n",
              "<style scoped>\n",
              "    .dataframe tbody tr th:only-of-type {\n",
              "        vertical-align: middle;\n",
              "    }\n",
              "\n",
              "    .dataframe tbody tr th {\n",
              "        vertical-align: top;\n",
              "    }\n",
              "\n",
              "    .dataframe thead th {\n",
              "        text-align: right;\n",
              "    }\n",
              "</style>\n",
              "<table border=\"1\" class=\"dataframe\">\n",
              "  <thead>\n",
              "    <tr style=\"text-align: right;\">\n",
              "      <th></th>\n",
              "      <th>favorite_count</th>\n",
              "      <th>retweet_count</th>\n",
              "    </tr>\n",
              "  </thead>\n",
              "  <tbody>\n",
              "    <tr>\n",
              "      <th>favorite_count</th>\n",
              "      <td>1.000000</td>\n",
              "      <td>0.913314</td>\n",
              "    </tr>\n",
              "    <tr>\n",
              "      <th>retweet_count</th>\n",
              "      <td>0.913314</td>\n",
              "      <td>1.000000</td>\n",
              "    </tr>\n",
              "  </tbody>\n",
              "</table>\n",
              "</div>"
            ],
            "text/plain": [
              "                favorite_count  retweet_count\n",
              "favorite_count        1.000000       0.913314\n",
              "retweet_count         0.913314       1.000000"
            ]
          },
          "execution_count": 57,
          "metadata": {},
          "output_type": "execute_result"
        }
      ],
      "source": [
        "relationship = df[['favorite_count','retweet_count']]\n",
        "relationship.corr()"
      ]
    },
    {
      "cell_type": "code",
      "execution_count": null,
      "id": "a73b77b9",
      "metadata": {
        "id": "a73b77b9"
      },
      "outputs": [],
      "source": []
    }
  ],
  "metadata": {
    "kernelspec": {
      "display_name": "Python 3 (ipykernel)",
      "language": "python",
      "name": "python3"
    },
    "language_info": {
      "codemirror_mode": {
        "name": "ipython",
        "version": 3
      },
      "file_extension": ".py",
      "mimetype": "text/x-python",
      "name": "python",
      "nbconvert_exporter": "python",
      "pygments_lexer": "ipython3",
      "version": "3.9.12"
    },
    "colab": {
      "provenance": []
    }
  },
  "nbformat": 4,
  "nbformat_minor": 5
}