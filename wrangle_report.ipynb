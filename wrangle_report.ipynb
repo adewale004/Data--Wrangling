{
 "cells": [
  {
   "cell_type": "markdown",
   "id": "c58d9c95",
   "metadata": {},
   "source": [
    "# WeRateDogs-Data Wrangling Report"
   ]
  },
  {
   "cell_type": "markdown",
   "id": "bb3c53bc",
   "metadata": {},
   "source": [
    "The goal of this project is to wrangle a twitter account (@WeRateDogs) and to generate meaningful insight and visualization. WeRateDogs is a twitter account that rates people's dogs with a humorous comment. The data wrangling process involved 3 sections."
   ]
  },
  {
   "cell_type": "markdown",
   "id": "f9d8e0e9",
   "metadata": {},
   "source": [
    "## Data Gathering"
   ]
  },
  {
   "cell_type": "markdown",
   "id": "e9419d10",
   "metadata": {},
   "source": [
    "Three (3) different sources of datasets were used for this project. They are:\n",
    "* WeRateDogs TwitterArchive: This dataset was provided by udacity and downloaded manually as a csv format. It was read into a data frame using pandas read_csv method.\n",
    "\n",
    "* The Tweet Image Predictions: This is a tsv (tab separated file) dataset that was downloaded programmatically using the requests library. The dataset was saved locally to my computer and read into a pandas data frame.\n",
    "\n",
    "* Additional Data Using Twitter API: Twitter API (Tweepy) was used to collect additional data such as likes (favorite count) and retweet count using the tweet id in the enhanced twitter dataset. The Twitter API returned a JSON data which was saved into a text (.txt) file which was converted into a pandas dataframe."
   ]
  },
  {
   "cell_type": "markdown",
   "id": "954508b2",
   "metadata": {},
   "source": [
    "## Assessing Data"
   ]
  },
  {
   "cell_type": "markdown",
   "id": "8f92fdbd",
   "metadata": {},
   "source": [
    "After gathering all the dataset required, I assessed them visually and programmatically. The visual assessment was done in jupyter notebook and Microsoft Excel.\n",
    "For the programmatical assessment, different pandas functions/methods were used such as .info(), .head(), .isnull(), .duplicated(), and so on.\n",
    "I was able to identify 9 data quality issues and 2 tidness issues.\n",
    "\n",
    "Quality Issues\n",
    "`archive` table\n",
    "* Timestamp column is an object data type\n",
    "* There are some tweets with retweeted_id\n",
    "* Null values are written as 'None' in all the dog stages columns\n",
    "* Some of the values in the rating denominator column are not 10\n",
    "* source column contains html tags\n",
    "* some columns are not needed for the analysis\n",
    "\n",
    "`image_prediction` table\n",
    "* Duplicate values in jpg_url column\n",
    "* some images were not predicted as dog\n",
    "* some columns are not needed for the analysis\n",
    "\n",
    "\n",
    "Tidiness Issues\n",
    "\n",
    "* dog stages (doggo\tfloofer\tpupper\tpuppo) in 4 different columns in `archive` table\n",
    "* all the 3 dataframes should be combined as one\n"
   ]
  },
  {
   "cell_type": "markdown",
   "id": "4dc203ac",
   "metadata": {},
   "source": [
    "## Cleaning Data"
   ]
  },
  {
   "cell_type": "markdown",
   "id": "da8aa32f",
   "metadata": {},
   "source": [
    "At this stage, I addressed the data quality and tidiness identified during the data assessment. I made a copy of the original dataframe before the cleaning process.\n",
    "I used the define-code-test framework, which was well documented. At the end, I created a master dataset, which was stored on my computer."
   ]
  },
  {
   "cell_type": "code",
   "execution_count": null,
   "id": "86560ce3",
   "metadata": {},
   "outputs": [],
   "source": []
  },
  {
   "cell_type": "code",
   "execution_count": null,
   "id": "f2625a2d",
   "metadata": {},
   "outputs": [],
   "source": []
  }
 ],
 "metadata": {
  "kernelspec": {
   "display_name": "Python 3 (ipykernel)",
   "language": "python",
   "name": "python3"
  },
  "language_info": {
   "codemirror_mode": {
    "name": "ipython",
    "version": 3
   },
   "file_extension": ".py",
   "mimetype": "text/x-python",
   "name": "python",
   "nbconvert_exporter": "python",
   "pygments_lexer": "ipython3",
   "version": "3.9.12"
  }
 },
 "nbformat": 4,
 "nbformat_minor": 5
}
